{
 "cells": [
  {
   "cell_type": "code",
   "execution_count": 1,
   "metadata": {
    "scrolled": true
   },
   "outputs": [
    {
     "name": "stdout",
     "output_type": "stream",
     "text": [
      "Requirement already satisfied: folium in /opt/conda/lib/python3.7/site-packages (0.10.0)\n",
      "Requirement already satisfied: numpy in /opt/conda/lib/python3.7/site-packages (from folium) (1.17.1)\n",
      "Requirement already satisfied: branca>=0.3.0 in /opt/conda/lib/python3.7/site-packages (from folium) (0.3.1)\n",
      "Requirement already satisfied: jinja2>=2.9 in /opt/conda/lib/python3.7/site-packages (from folium) (2.10.1)\n",
      "Requirement already satisfied: requests in /opt/conda/lib/python3.7/site-packages (from folium) (2.22.0)\n",
      "Requirement already satisfied: six in /opt/conda/lib/python3.7/site-packages (from branca>=0.3.0->folium) (1.12.0)\n",
      "Requirement already satisfied: MarkupSafe>=0.23 in /opt/conda/lib/python3.7/site-packages (from jinja2>=2.9->folium) (1.1.1)\n",
      "Requirement already satisfied: certifi>=2017.4.17 in /opt/conda/lib/python3.7/site-packages (from requests->folium) (2019.6.16)\n",
      "Requirement already satisfied: chardet<3.1.0,>=3.0.2 in /opt/conda/lib/python3.7/site-packages (from requests->folium) (3.0.4)\n",
      "Requirement already satisfied: idna<2.9,>=2.5 in /opt/conda/lib/python3.7/site-packages (from requests->folium) (2.8)\n",
      "Requirement already satisfied: urllib3!=1.25.0,!=1.25.1,<1.26,>=1.21.1 in /opt/conda/lib/python3.7/site-packages (from requests->folium) (1.24.2)\n"
     ]
    }
   ],
   "source": [
    "! pip install folium"
   ]
  },
  {
   "cell_type": "code",
   "execution_count": 2,
   "metadata": {},
   "outputs": [],
   "source": [
    "import folium\n",
    "import pandas as pd\n",
    "import numpy as np\n",
    "import random \n",
    "import warnings\n",
    "warnings.filterwarnings('ignore')"
   ]
  },
  {
   "cell_type": "code",
   "execution_count": 3,
   "metadata": {
    "scrolled": true
   },
   "outputs": [
    {
     "data": {
      "text/html": [
       "<div>\n",
       "<style scoped>\n",
       "    .dataframe tbody tr th:only-of-type {\n",
       "        vertical-align: middle;\n",
       "    }\n",
       "\n",
       "    .dataframe tbody tr th {\n",
       "        vertical-align: top;\n",
       "    }\n",
       "\n",
       "    .dataframe thead th {\n",
       "        text-align: right;\n",
       "    }\n",
       "</style>\n",
       "<table border=\"1\" class=\"dataframe\">\n",
       "  <thead>\n",
       "    <tr style=\"text-align: right;\">\n",
       "      <th></th>\n",
       "      <th>id</th>\n",
       "      <th>name</th>\n",
       "      <th>host_id</th>\n",
       "      <th>host_name</th>\n",
       "      <th>neighbourhood_group</th>\n",
       "      <th>neighbourhood</th>\n",
       "      <th>latitude</th>\n",
       "      <th>longitude</th>\n",
       "      <th>room_type</th>\n",
       "      <th>price</th>\n",
       "      <th>minimum_nights</th>\n",
       "      <th>number_of_reviews</th>\n",
       "      <th>last_review</th>\n",
       "      <th>reviews_per_month</th>\n",
       "      <th>calculated_host_listings_count</th>\n",
       "      <th>availability_365</th>\n",
       "    </tr>\n",
       "  </thead>\n",
       "  <tbody>\n",
       "    <tr>\n",
       "      <td>20894</td>\n",
       "      <td>16544473</td>\n",
       "      <td>Stylish 1BR w/lounge or 2BR Vintage Artists Apt.</td>\n",
       "      <td>7824750</td>\n",
       "      <td>Donari</td>\n",
       "      <td>Brooklyn</td>\n",
       "      <td>Williamsburg</td>\n",
       "      <td>40.70725</td>\n",
       "      <td>-73.95271</td>\n",
       "      <td>Entire home/apt</td>\n",
       "      <td>122</td>\n",
       "      <td>7</td>\n",
       "      <td>43</td>\n",
       "      <td>2019-06-10</td>\n",
       "      <td>1.41</td>\n",
       "      <td>1</td>\n",
       "      <td>146</td>\n",
       "    </tr>\n",
       "    <tr>\n",
       "      <td>16580</td>\n",
       "      <td>13276680</td>\n",
       "      <td>Amazing Double Room in Williamsburg</td>\n",
       "      <td>35433522</td>\n",
       "      <td>David</td>\n",
       "      <td>Brooklyn</td>\n",
       "      <td>Williamsburg</td>\n",
       "      <td>40.71234</td>\n",
       "      <td>-73.95000</td>\n",
       "      <td>Private room</td>\n",
       "      <td>89</td>\n",
       "      <td>2</td>\n",
       "      <td>69</td>\n",
       "      <td>2018-08-27</td>\n",
       "      <td>1.83</td>\n",
       "      <td>3</td>\n",
       "      <td>0</td>\n",
       "    </tr>\n",
       "    <tr>\n",
       "      <td>42966</td>\n",
       "      <td>33365859</td>\n",
       "      <td>Less is More - in West Chelsea</td>\n",
       "      <td>1842737</td>\n",
       "      <td>L</td>\n",
       "      <td>Manhattan</td>\n",
       "      <td>Chelsea</td>\n",
       "      <td>40.74477</td>\n",
       "      <td>-74.00622</td>\n",
       "      <td>Entire home/apt</td>\n",
       "      <td>185</td>\n",
       "      <td>2</td>\n",
       "      <td>5</td>\n",
       "      <td>2019-06-20</td>\n",
       "      <td>1.69</td>\n",
       "      <td>1</td>\n",
       "      <td>137</td>\n",
       "    </tr>\n",
       "    <tr>\n",
       "      <td>11910</td>\n",
       "      <td>9276587</td>\n",
       "      <td>Convenient Hell's Kitchen 1br/2-4pp</td>\n",
       "      <td>2782391</td>\n",
       "      <td>Jeff</td>\n",
       "      <td>Manhattan</td>\n",
       "      <td>Hell's Kitchen</td>\n",
       "      <td>40.76639</td>\n",
       "      <td>-73.98727</td>\n",
       "      <td>Entire home/apt</td>\n",
       "      <td>150</td>\n",
       "      <td>3</td>\n",
       "      <td>12</td>\n",
       "      <td>2019-06-14</td>\n",
       "      <td>0.27</td>\n",
       "      <td>2</td>\n",
       "      <td>1</td>\n",
       "    </tr>\n",
       "    <tr>\n",
       "      <td>23257</td>\n",
       "      <td>18836337</td>\n",
       "      <td>Modern Comfort</td>\n",
       "      <td>95564806</td>\n",
       "      <td>Olvin</td>\n",
       "      <td>Brooklyn</td>\n",
       "      <td>Brownsville</td>\n",
       "      <td>40.66032</td>\n",
       "      <td>-73.91341</td>\n",
       "      <td>Private room</td>\n",
       "      <td>55</td>\n",
       "      <td>2</td>\n",
       "      <td>58</td>\n",
       "      <td>2019-02-25</td>\n",
       "      <td>2.25</td>\n",
       "      <td>3</td>\n",
       "      <td>0</td>\n",
       "    </tr>\n",
       "  </tbody>\n",
       "</table>\n",
       "</div>"
      ],
      "text/plain": [
       "             id                                              name   host_id  \\\n",
       "20894  16544473  Stylish 1BR w/lounge or 2BR Vintage Artists Apt.   7824750   \n",
       "16580  13276680               Amazing Double Room in Williamsburg  35433522   \n",
       "42966  33365859                    Less is More - in West Chelsea   1842737   \n",
       "11910   9276587               Convenient Hell's Kitchen 1br/2-4pp   2782391   \n",
       "23257  18836337                                    Modern Comfort  95564806   \n",
       "\n",
       "      host_name neighbourhood_group   neighbourhood  latitude  longitude  \\\n",
       "20894    Donari            Brooklyn    Williamsburg  40.70725  -73.95271   \n",
       "16580     David            Brooklyn    Williamsburg  40.71234  -73.95000   \n",
       "42966         L           Manhattan         Chelsea  40.74477  -74.00622   \n",
       "11910      Jeff           Manhattan  Hell's Kitchen  40.76639  -73.98727   \n",
       "23257     Olvin            Brooklyn     Brownsville  40.66032  -73.91341   \n",
       "\n",
       "             room_type  price  minimum_nights  number_of_reviews last_review  \\\n",
       "20894  Entire home/apt    122               7                 43  2019-06-10   \n",
       "16580     Private room     89               2                 69  2018-08-27   \n",
       "42966  Entire home/apt    185               2                  5  2019-06-20   \n",
       "11910  Entire home/apt    150               3                 12  2019-06-14   \n",
       "23257     Private room     55               2                 58  2019-02-25   \n",
       "\n",
       "       reviews_per_month  calculated_host_listings_count  availability_365  \n",
       "20894               1.41                               1               146  \n",
       "16580               1.83                               3                 0  \n",
       "42966               1.69                               1               137  \n",
       "11910               0.27                               2                 1  \n",
       "23257               2.25                               3                 0  "
      ]
     },
     "execution_count": 3,
     "metadata": {},
     "output_type": "execute_result"
    }
   ],
   "source": [
    "airbnb = pd.read_csv('NYC_airbnb.csv')\n",
    "airbnb.sample(5)"
   ]
  },
  {
   "cell_type": "code",
   "execution_count": 4,
   "metadata": {},
   "outputs": [
    {
     "name": "stdout",
     "output_type": "stream",
     "text": [
      "Choose from Manhattan, Brooklyn, Queens, Bronx, Staten Island: Manhattan\n",
      "             id                                            name   host_id  \\\n",
      "5704    4155012                 true 1 BR in prime east village  21560088   \n",
      "26792  21264686  Stunning Room, Perfect Location, Premium Bed ❤  14552154   \n",
      "\n",
      "      host_name neighbourhood_group neighbourhood  latitude  longitude  \\\n",
      "5704      Sarah           Manhattan  East Village  40.72784  -73.99104   \n",
      "26792    Leslie           Manhattan       Midtown  40.74624  -73.98648   \n",
      "\n",
      "             room_type  price  minimum_nights  number_of_reviews last_review  \\\n",
      "5704   Entire home/apt    219               2                  9  2017-09-22   \n",
      "26792     Private room    140               2                 76  2019-06-19   \n",
      "\n",
      "       reviews_per_month  calculated_host_listings_count  availability_365  \n",
      "5704                0.15                               1                 0  \n",
      "26792               3.73                               4               148  \n"
     ]
    }
   ],
   "source": [
    "user_nbhd = input('Choose from Manhattan, Brooklyn, Queens, Bronx, Staten Island: ')\n",
    "user_nhhd_result = airbnb[airbnb['neighbourhood_group'] == user_nbhd]\n",
    "print(user_nhhd_result.sample(2))"
   ]
  },
  {
   "cell_type": "code",
   "execution_count": 13,
   "metadata": {},
   "outputs": [
    {
     "data": {
      "text/html": [
       "<div style=\"width:100%;\"><div style=\"position:relative;width:100%;height:0;padding-bottom:60%;\"><iframe src=\"data:text/html;charset=utf-8;base64,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\" style=\"position:absolute;width:100%;height:100%;left:0;top:0;border:none !important;\" allowfullscreen webkitallowfullscreen mozallowfullscreen></iframe></div></div>"
      ],
      "text/plain": [
       "<folium.folium.Map at 0x7f92a23b1ef0>"
      ]
     },
     "execution_count": 13,
     "metadata": {},
     "output_type": "execute_result"
    }
   ],
   "source": [
    "CENTER_NYC = (40.7128,-74.0060)\n",
    "map = folium.Map(location=CENTER_NYC, zoom_start=12)\n",
    "map\n",
    "for row in airbnb.head(10).to_records():\n",
    "    pos = (row['latitude'],row['longitude'])\n",
    "    marker = folium.Marker(location=pos, \n",
    "                    popup=\"%s, %s\" % (row['name'],row['neighbourhood'])\n",
    "                          )\n",
    "    map.add_child(marker)\n",
    "map"
   ]
  },
  {
   "cell_type": "code",
   "execution_count": 10,
   "metadata": {
    "scrolled": true
   },
   "outputs": [
    {
     "data": {
      "text/html": [
       "<div>\n",
       "<style scoped>\n",
       "    .dataframe tbody tr th:only-of-type {\n",
       "        vertical-align: middle;\n",
       "    }\n",
       "\n",
       "    .dataframe tbody tr th {\n",
       "        vertical-align: top;\n",
       "    }\n",
       "\n",
       "    .dataframe thead th {\n",
       "        text-align: right;\n",
       "    }\n",
       "</style>\n",
       "<table border=\"1\" class=\"dataframe\">\n",
       "  <thead>\n",
       "    <tr style=\"text-align: right;\">\n",
       "      <th></th>\n",
       "      <th>Name</th>\n",
       "      <th>Borough</th>\n",
       "      <th>Building</th>\n",
       "      <th>Street</th>\n",
       "      <th>Zipcode</th>\n",
       "      <th>Cuisine Description</th>\n",
       "    </tr>\n",
       "  </thead>\n",
       "  <tbody>\n",
       "    <tr>\n",
       "      <td>313843</td>\n",
       "      <td>2 Bros Pizza</td>\n",
       "      <td>Brooklyn</td>\n",
       "      <td>395</td>\n",
       "      <td>Flatbush Avenue Extension</td>\n",
       "      <td>11201.0</td>\n",
       "      <td>Pizza</td>\n",
       "    </tr>\n",
       "    <tr>\n",
       "      <td>378768</td>\n",
       "      <td>Mister Pizza</td>\n",
       "      <td>Bronx</td>\n",
       "      <td>155</td>\n",
       "      <td>E 149Th St</td>\n",
       "      <td>10451.0</td>\n",
       "      <td>Pizza</td>\n",
       "    </tr>\n",
       "    <tr>\n",
       "      <td>21558</td>\n",
       "      <td>Torishin</td>\n",
       "      <td>Manhattan</td>\n",
       "      <td>362</td>\n",
       "      <td>W 53Rd St</td>\n",
       "      <td>10019.0</td>\n",
       "      <td>Japanese</td>\n",
       "    </tr>\n",
       "    <tr>\n",
       "      <td>36074</td>\n",
       "      <td>Acqua</td>\n",
       "      <td>Manhattan</td>\n",
       "      <td>718</td>\n",
       "      <td>Amsterdam Avenue</td>\n",
       "      <td>10025.0</td>\n",
       "      <td>Italian</td>\n",
       "    </tr>\n",
       "    <tr>\n",
       "      <td>110815</td>\n",
       "      <td>Avere Ristorante</td>\n",
       "      <td>Brooklyn</td>\n",
       "      <td>222</td>\n",
       "      <td>Duffield St</td>\n",
       "      <td>11201.0</td>\n",
       "      <td>Italian</td>\n",
       "    </tr>\n",
       "  </tbody>\n",
       "</table>\n",
       "</div>"
      ],
      "text/plain": [
       "                    Name    Borough Building                     Street  \\\n",
       "313843      2 Bros Pizza   Brooklyn      395  Flatbush Avenue Extension   \n",
       "378768      Mister Pizza      Bronx      155                 E 149Th St   \n",
       "21558           Torishin  Manhattan      362                  W 53Rd St   \n",
       "36074              Acqua  Manhattan      718           Amsterdam Avenue   \n",
       "110815  Avere Ristorante   Brooklyn      222                Duffield St   \n",
       "\n",
       "        Zipcode Cuisine Description  \n",
       "313843  11201.0               Pizza  \n",
       "378768  10451.0               Pizza  \n",
       "21558   10019.0            Japanese  \n",
       "36074   10025.0             Italian  \n",
       "110815  11201.0             Italian  "
      ]
     },
     "execution_count": 10,
     "metadata": {},
     "output_type": "execute_result"
    }
   ],
   "source": [
    "restaurants = pd.read_csv('nyc_restaurants.csv')\n",
    "restaurants.sample(5)"
   ]
  },
  {
   "cell_type": "code",
   "execution_count": 11,
   "metadata": {},
   "outputs": [
    {
     "data": {
      "text/plain": [
       "Manhattan    5234\n",
       "Name: Borough, dtype: int64"
      ]
     },
     "execution_count": 11,
     "metadata": {},
     "output_type": "execute_result"
    }
   ],
   "source": [
    "food = restaurants[ (restaurants['Borough'] =='Manhattan') & (restaurants['Cuisine Description'] == \"Mexican\")]\n",
    "food['Borough'].value_counts()"
   ]
  },
  {
   "cell_type": "code",
   "execution_count": null,
   "metadata": {},
   "outputs": [],
   "source": [
    "\n"
   ]
  },
  {
   "cell_type": "code",
   "execution_count": null,
   "metadata": {},
   "outputs": [],
   "source": []
  }
 ],
 "metadata": {
  "kernelspec": {
   "display_name": "Python 3",
   "language": "python",
   "name": "python3"
  },
  "language_info": {
   "codemirror_mode": {
    "name": "ipython",
    "version": 3
   },
   "file_extension": ".py",
   "mimetype": "text/x-python",
   "name": "python",
   "nbconvert_exporter": "python",
   "pygments_lexer": "ipython3",
   "version": "3.7.3"
  }
 },
 "nbformat": 4,
 "nbformat_minor": 2
}
