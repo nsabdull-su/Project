{
 "cells": [
  {
   "cell_type": "markdown",
   "metadata": {},
   "source": [
    "\n",
    "\n",
    "\n",
    "\n",
    "# Algorithm Change since P2: \n",
    "- \n",
    "    \n"
   ]
  },
  {
   "cell_type": "code",
   "execution_count": 2,
   "metadata": {},
   "outputs": [
    {
     "name": "stdout",
     "output_type": "stream",
     "text": [
      "Requirement already satisfied: folium in /opt/conda/lib/python3.7/site-packages (0.10.0)\n",
      "Requirement already satisfied: jinja2>=2.9 in /opt/conda/lib/python3.7/site-packages (from folium) (2.10.1)\n",
      "Requirement already satisfied: branca>=0.3.0 in /opt/conda/lib/python3.7/site-packages (from folium) (0.3.1)\n",
      "Requirement already satisfied: numpy in /opt/conda/lib/python3.7/site-packages (from folium) (1.17.1)\n",
      "Requirement already satisfied: requests in /opt/conda/lib/python3.7/site-packages (from folium) (2.22.0)\n",
      "Requirement already satisfied: MarkupSafe>=0.23 in /opt/conda/lib/python3.7/site-packages (from jinja2>=2.9->folium) (1.1.1)\n",
      "Requirement already satisfied: six in /opt/conda/lib/python3.7/site-packages (from branca>=0.3.0->folium) (1.12.0)\n",
      "Requirement already satisfied: chardet<3.1.0,>=3.0.2 in /opt/conda/lib/python3.7/site-packages (from requests->folium) (3.0.4)\n",
      "Requirement already satisfied: urllib3!=1.25.0,!=1.25.1,<1.26,>=1.21.1 in /opt/conda/lib/python3.7/site-packages (from requests->folium) (1.24.2)\n",
      "Requirement already satisfied: idna<2.9,>=2.5 in /opt/conda/lib/python3.7/site-packages (from requests->folium) (2.8)\n",
      "Requirement already satisfied: certifi>=2017.4.17 in /opt/conda/lib/python3.7/site-packages (from requests->folium) (2019.6.16)\n"
     ]
    }
   ],
   "source": [
    "import warnings\n",
    "warnings.filterwarnings('ignore')\n",
    "import pandas as pd\n",
    "import numpy as np\n",
    "! pip install folium\n",
    "import folium"
   ]
  },
  {
   "cell_type": "code",
   "execution_count": 3,
   "metadata": {
    "scrolled": false
   },
   "outputs": [
    {
     "name": "stdout",
     "output_type": "stream",
     "text": [
      "Choose from Manhattan, Brooklyn, Queens, Bronx, Staten Island or print Quit to quit: Manhattan\n",
      "Choose from 'Private room', 'Entire home/apt', 'Shared room'Private room\n",
      "Choose price range from '0-50', '51-100', '101-150','151-200','200+'200+\n"
     ]
    },
    {
     "data": {
      "text/html": [
       "<div style=\"width:100%;\"><div style=\"position:relative;width:100%;height:0;padding-bottom:60%;\"><iframe src=\"data:text/html;charset=utf-8;base64,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\" style=\"position:absolute;width:100%;height:100%;left:0;top:0;border:none !important;\" allowfullscreen webkitallowfullscreen mozallowfullscreen></iframe></div></div>"
      ],
      "text/plain": [
       "<folium.folium.Map at 0x7f6ddc678748>"
      ]
     },
     "metadata": {},
     "output_type": "display_data"
    },
    {
     "data": {
      "text/html": [
       "<div>\n",
       "<style scoped>\n",
       "    .dataframe tbody tr th:only-of-type {\n",
       "        vertical-align: middle;\n",
       "    }\n",
       "\n",
       "    .dataframe tbody tr th {\n",
       "        vertical-align: top;\n",
       "    }\n",
       "\n",
       "    .dataframe thead th {\n",
       "        text-align: right;\n",
       "    }\n",
       "</style>\n",
       "<table border=\"1\" class=\"dataframe\">\n",
       "  <thead>\n",
       "    <tr style=\"text-align: right;\">\n",
       "      <th></th>\n",
       "      <th>name</th>\n",
       "      <th>host_id</th>\n",
       "      <th>price</th>\n",
       "    </tr>\n",
       "  </thead>\n",
       "  <tbody>\n",
       "    <tr>\n",
       "      <td>8871</td>\n",
       "      <td>[206] 5 min WALK to Times Square</td>\n",
       "      <td>35524316</td>\n",
       "      <td>255</td>\n",
       "    </tr>\n",
       "    <tr>\n",
       "      <td>8854</td>\n",
       "      <td>[205] 5 min WALK to Times Square</td>\n",
       "      <td>35524316</td>\n",
       "      <td>210</td>\n",
       "    </tr>\n",
       "    <tr>\n",
       "      <td>2148</td>\n",
       "      <td>Village Life, 2-Bedroom, East Village</td>\n",
       "      <td>2203885</td>\n",
       "      <td>420</td>\n",
       "    </tr>\n",
       "    <tr>\n",
       "      <td>14591</td>\n",
       "      <td>RENOVATED/BEST LOCATION in MIDTOWN</td>\n",
       "      <td>60688035</td>\n",
       "      <td>250</td>\n",
       "    </tr>\n",
       "    <tr>\n",
       "      <td>8872</td>\n",
       "      <td>[306] 5 min WALK to Times Square</td>\n",
       "      <td>35524316</td>\n",
       "      <td>245</td>\n",
       "    </tr>\n",
       "  </tbody>\n",
       "</table>\n",
       "</div>"
      ],
      "text/plain": [
       "                                        name   host_id  price\n",
       "8871        [206] 5 min WALK to Times Square  35524316    255\n",
       "8854        [205] 5 min WALK to Times Square  35524316    210\n",
       "2148   Village Life, 2-Bedroom, East Village   2203885    420\n",
       "14591     RENOVATED/BEST LOCATION in MIDTOWN  60688035    250\n",
       "8872        [306] 5 min WALK to Times Square  35524316    245"
      ]
     },
     "metadata": {},
     "output_type": "display_data"
    },
    {
     "name": "stdout",
     "output_type": "stream",
     "text": [
      "enter the name you want to stay: [206] 5 min WALK to Times Square\n"
     ]
    },
    {
     "data": {
      "text/html": [
       "<div style=\"width:100%;\"><div style=\"position:relative;width:100%;height:0;padding-bottom:60%;\"><iframe src=\"data:text/html;charset=utf-8;base64,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\" style=\"position:absolute;width:100%;height:100%;left:0;top:0;border:none !important;\" allowfullscreen webkitallowfullscreen mozallowfullscreen></iframe></div></div>"
      ],
      "text/plain": [
       "<folium.folium.Map at 0x7f6ddc6784e0>"
      ]
     },
     "metadata": {},
     "output_type": "display_data"
    },
    {
     "data": {
      "text/html": [
       "<div>\n",
       "<style scoped>\n",
       "    .dataframe tbody tr th:only-of-type {\n",
       "        vertical-align: middle;\n",
       "    }\n",
       "\n",
       "    .dataframe tbody tr th {\n",
       "        vertical-align: top;\n",
       "    }\n",
       "\n",
       "    .dataframe thead th {\n",
       "        text-align: right;\n",
       "    }\n",
       "</style>\n",
       "<table border=\"1\" class=\"dataframe\">\n",
       "  <thead>\n",
       "    <tr style=\"text-align: right;\">\n",
       "      <th></th>\n",
       "      <th>neighbourhood_group</th>\n",
       "      <th>price</th>\n",
       "      <th>room_type</th>\n",
       "      <th>number_of_reviews</th>\n",
       "      <th>latitude</th>\n",
       "      <th>longitude</th>\n",
       "      <th>name</th>\n",
       "      <th>host_id</th>\n",
       "    </tr>\n",
       "  </thead>\n",
       "  <tbody>\n",
       "    <tr>\n",
       "      <td>8871</td>\n",
       "      <td>Manhattan</td>\n",
       "      <td>255</td>\n",
       "      <td>Private room</td>\n",
       "      <td>192</td>\n",
       "      <td>40.7618</td>\n",
       "      <td>-73.99093</td>\n",
       "      <td>[206] 5 min WALK to Times Square</td>\n",
       "      <td>35524316</td>\n",
       "    </tr>\n",
       "  </tbody>\n",
       "</table>\n",
       "</div>"
      ],
      "text/plain": [
       "     neighbourhood_group  price     room_type  number_of_reviews  latitude  \\\n",
       "8871           Manhattan    255  Private room                192   40.7618   \n",
       "\n",
       "      longitude                              name   host_id  \n",
       "8871  -73.99093  [206] 5 min WALK to Times Square  35524316  "
      ]
     },
     "metadata": {},
     "output_type": "display_data"
    },
    {
     "name": "stdout",
     "output_type": "stream",
     "text": [
      "Which street or avenue is your AirBnB on? (please enter): 50th Street\n",
      "There are no restaurants on this street. Start over.\n",
      "Which street or avenue is your AirBnB on? (please enter): 10 Avenue\n",
      "There are 506 restaurants on this street.\n",
      "Enter cuisine: Japanese\n"
     ]
    },
    {
     "data": {
      "text/html": [
       "<div>\n",
       "<style scoped>\n",
       "    .dataframe tbody tr th:only-of-type {\n",
       "        vertical-align: middle;\n",
       "    }\n",
       "\n",
       "    .dataframe tbody tr th {\n",
       "        vertical-align: top;\n",
       "    }\n",
       "\n",
       "    .dataframe thead th {\n",
       "        text-align: right;\n",
       "    }\n",
       "</style>\n",
       "<table border=\"1\" class=\"dataframe\">\n",
       "  <thead>\n",
       "    <tr style=\"text-align: right;\">\n",
       "      <th></th>\n",
       "      <th>Name</th>\n",
       "    </tr>\n",
       "  </thead>\n",
       "  <tbody>\n",
       "    <tr>\n",
       "      <td>Morimoto Ny</td>\n",
       "      <td>13</td>\n",
       "    </tr>\n",
       "  </tbody>\n",
       "</table>\n",
       "</div>"
      ],
      "text/plain": [
       "             Name\n",
       "Morimoto Ny    13"
      ]
     },
     "metadata": {},
     "output_type": "display_data"
    },
    {
     "name": "stdout",
     "output_type": "stream",
     "text": [
      "Hope you found the right AirBnB and restaurant of your choice!\n",
      "Choose from Manhattan, Brooklyn, Queens, Bronx, Staten Island or print Quit to quit: Quit\n"
     ]
    }
   ],
   "source": [
    "# Read data from csv\n",
    "airbnb_data_origin= pd.read_csv('NYC_airbnb.csv')\n",
    "airbnb_data = airbnb_data_origin.filter(['neighbourhood_group', 'price', 'room_type', 'number_of_reviews', 'latitude',\n",
    "                                         'longitude', 'name', 'host_id'])\n",
    "restaurants = pd.read_csv('nyc_restaurants.csv')\n",
    "\n",
    "# Filter by neighborhood\n",
    "list = [\"Manhattan\", \"Brooklyn\", \"Queens\", \"Bronx\", \"Staten Island\"]\n",
    "while True:\n",
    "    user_nbhd = input('Choose from Manhattan, Brooklyn, Queens, Bronx, Staten Island or print Quit to quit: ')\n",
    "    if user_nbhd == \"Quit\":\n",
    "        break\n",
    "    if user_nbhd in list:\n",
    "        user_nbhd_result = airbnb_data[airbnb_data['neighbourhood_group'] == user_nbhd]\n",
    "    else:\n",
    "        print('Please choose from \"Manhattan\", \"Brooklyn\", \"Queens\", \"Bronx\", \"Staten Island\" or enter \"Quit\" to quit')\n",
    "        continue\n",
    "# Filter by room type\n",
    "    list2 = ['Private room', 'Entire home/apt', 'Shared room']\n",
    "    while True:\n",
    "        user_room = input(\"Choose from 'Private room', 'Entire home/apt', 'Shared room'\")\n",
    "        if user_room in list2:\n",
    "            user_room_result = user_nbhd_result[user_nbhd_result['room_type'] == user_room]\n",
    "            break\n",
    "        else:\n",
    "            print('Please choose from \"Private room\", \"Entire home/apt\", \"Shared room\"')\n",
    "            continue\n",
    "    # Filter by price group\n",
    "    while True:\n",
    "        user_room_result['price_group'] = np.nan\n",
    "        user_room_result['price_group'][user_room_result['price'] <= 50] ='0-50'\n",
    "        user_room_result['price_group'][user_room_result['price'].between(51, 101)] = '51-100'\n",
    "        user_room_result['price_group'][user_room_result['price'].between(101, 151)] = '101-150'\n",
    "        user_room_result['price_group'][user_room_result['price'].between(151, 201)] = '151-200'\n",
    "        user_room_result['price_group'][user_room_result['price'] > 200] ='200+'\n",
    "        list3 = ['0-50', '51-100', '101-150','151-200','200+']\n",
    "        user_price = input(f\"Choose price range from '0-50', '51-100', '101-150','151-200','200+'\")\n",
    "        if user_price in list3:\n",
    "            user_price_result = user_room_result[user_room_result['price_group'] == user_price]\n",
    "            # Sort the rooms by number of reviews from high to low\n",
    "            final_sort = user_price_result.sort_values(by=['number_of_reviews'], ascending=False)\n",
    "            CENTER_NYC = (40.7128, -74.0060)\n",
    "            map = folium.Map(location=CENTER_NYC, zoom_start=12)\n",
    "\n",
    "            for row in final_sort.head(5).to_records():\n",
    "                pos = (row['latitude'], row['longitude'])\n",
    "                marker = folium.Marker(location=pos, popup=\"%s, ID: %s\" % (row['name'], row['host_id'])\n",
    "                                      )\n",
    "                map.add_child(marker)\n",
    "            display(map)\n",
    "           \n",
    "            final_choice = final_sort.head(5).filter(['name', 'host_id', 'price'])\n",
    "            final_df = pd.DataFrame(final_choice)\n",
    "            display(final_df)\n",
    "           \n",
    "            name_choice = input('enter the name you want to stay: ')\n",
    "            name = airbnb_data[airbnb_data['name'] == name_choice]\n",
    "            name_df = pd.DataFrame(name)\n",
    "           \n",
    "            map2 = folium.Map(location=CENTER_NYC, zoom_start=12)\n",
    "            pos2 = (name_df['latitude'], name_df['longitude'])\n",
    "            marker2 = folium.Marker(location=pos, popup=\"%s, ID: %s\" % (name_df['name'], name_df['host_id']))\n",
    "            map2.add_child(marker2)\n",
    "            display(map2)\n",
    "            display(name_df)\n",
    "           \n",
    "            df = pd.read_csv('nyc_restaurants.csv')\n",
    "            street_names = df['Street']\n",
    "            res_names = df['Name']\n",
    "            res_cuisines = df['Cuisine Description']\n",
    "            list_of_streets = []\n",
    "            list_of_restaurants = []\n",
    "            list_of_cuisines = []\n",
    "            i = 0\n",
    "           \n",
    "            for names in street_names:\n",
    "                list_of_streets.append(names)\n",
    "                if (len(list_of_streets) > 150000):\n",
    "                    break\n",
    "            for names in res_names:\n",
    "                list_of_restaurants.append(names)\n",
    "                if (len(list_of_restaurants) > 150000):\n",
    "                    break\n",
    "            for names in res_cuisines:\n",
    "                list_of_cuisines.append(names)\n",
    "                if (len(list_of_cuisines) > 150000):\n",
    "                    break\n",
    "\n",
    "            def get_user_street():\n",
    "                user_street = input(\"Which street or avenue is your AirBnB on? (please enter): \")\n",
    "                return user_street\n",
    "\n",
    "            def check_res_in_street(user_street):\n",
    "                if (user_street) in list_of_streets:\n",
    "                    return True\n",
    "                else:\n",
    "                    return False\n",
    "\n",
    "            def find_num_of_res(user_street):\n",
    "                count = 0\n",
    "                for words in list_of_streets:\n",
    "                    if (words == user_street):\n",
    "                        count += 1\n",
    "                return count\n",
    "\n",
    "            def ask_show_more(user_street):\n",
    "                    cuisine_type = input(\"Enter cuisine: \")\n",
    "                    food = restaurants[ (restaurants['Street'] == user_street) & (restaurants['Cuisine Description'] == cuisine_type)]\n",
    "                    value_count = food['Name'].value_counts()\n",
    "                    count_df = pd.DataFrame(value_count)\n",
    "                    display(count_df)\n",
    "                    print(\"Hope you found the right AirBnB and restaurant of your choice!\")\n",
    "\n",
    "            def main():        \n",
    "                user_street = get_user_street()\n",
    "\n",
    "                if (check_res_in_street(user_street) == True):\n",
    "                    num_res_in_street = find_num_of_res(user_street)\n",
    "                    if (num_res_in_street > 1):\n",
    "                        print(\"There are \" + str(num_res_in_street) + \" restaurants on this street.\")\n",
    "                        ask_show_more(user_street)\n",
    "                    else:\n",
    "                        print(\"There is 1 restaurant on this street.\")\n",
    "                        ask_show_more(user_street)\n",
    "                else:\n",
    "                    print(\"There are no restaurants on this street. Start over.\")\n",
    "                    main()\n",
    "           \n",
    "            main()\n",
    "           \n",
    "        else:\n",
    "            print(\"Please choose from '0-50', '51-100', '101-150','151-200','200-'\")\n",
    "            continue\n",
    "           \n",
    "        break\n",
    "            # break to exit this while loop    "
   ]
  },
  {
   "cell_type": "code",
   "execution_count": null,
   "metadata": {},
   "outputs": [],
   "source": []
  },
  {
   "cell_type": "code",
   "execution_count": null,
   "metadata": {},
   "outputs": [],
   "source": []
  },
  {
   "cell_type": "code",
   "execution_count": null,
   "metadata": {},
   "outputs": [],
   "source": []
  },
  {
   "cell_type": "code",
   "execution_count": null,
   "metadata": {},
   "outputs": [],
   "source": []
  },
  {
   "cell_type": "code",
   "execution_count": null,
   "metadata": {},
   "outputs": [],
   "source": []
  },
  {
   "cell_type": "code",
   "execution_count": null,
   "metadata": {},
   "outputs": [],
   "source": []
  }
 ],
 "metadata": {
  "kernelspec": {
   "display_name": "Python 3",
   "language": "python",
   "name": "python3"
  },
  "language_info": {
   "codemirror_mode": {
    "name": "ipython",
    "version": 3
   },
   "file_extension": ".py",
   "mimetype": "text/x-python",
   "name": "python",
   "nbconvert_exporter": "python",
   "pygments_lexer": "ipython3",
   "version": "3.7.3"
  }
 },
 "nbformat": 4,
 "nbformat_minor": 2
}
