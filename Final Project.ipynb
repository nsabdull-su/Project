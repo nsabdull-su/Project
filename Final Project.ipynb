{
 "cells": [
  {
   "cell_type": "code",
   "execution_count": 1,
   "metadata": {},
   "outputs": [
    {
     "name": "stdout",
     "output_type": "stream",
     "text": [
      "Requirement already satisfied: folium in /opt/conda/lib/python3.7/site-packages (0.10.0)\n",
      "Requirement already satisfied: numpy in /opt/conda/lib/python3.7/site-packages (from folium) (1.17.1)\n",
      "Requirement already satisfied: requests in /opt/conda/lib/python3.7/site-packages (from folium) (2.22.0)\n",
      "Requirement already satisfied: branca>=0.3.0 in /opt/conda/lib/python3.7/site-packages (from folium) (0.3.1)\n",
      "Requirement already satisfied: jinja2>=2.9 in /opt/conda/lib/python3.7/site-packages (from folium) (2.10.1)\n",
      "Requirement already satisfied: idna<2.9,>=2.5 in /opt/conda/lib/python3.7/site-packages (from requests->folium) (2.8)\n",
      "Requirement already satisfied: certifi>=2017.4.17 in /opt/conda/lib/python3.7/site-packages (from requests->folium) (2019.6.16)\n",
      "Requirement already satisfied: chardet<3.1.0,>=3.0.2 in /opt/conda/lib/python3.7/site-packages (from requests->folium) (3.0.4)\n",
      "Requirement already satisfied: urllib3!=1.25.0,!=1.25.1,<1.26,>=1.21.1 in /opt/conda/lib/python3.7/site-packages (from requests->folium) (1.24.2)\n",
      "Requirement already satisfied: six in /opt/conda/lib/python3.7/site-packages (from branca>=0.3.0->folium) (1.12.0)\n",
      "Requirement already satisfied: MarkupSafe>=0.23 in /opt/conda/lib/python3.7/site-packages (from jinja2>=2.9->folium) (1.1.1)\n"
     ]
    }
   ],
   "source": [
    "import warnings\n",
    "warnings.filterwarnings('ignore')\n",
    "import pandas as pd\n",
    "import numpy as np\n",
    "! pip install folium\n",
    "import folium"
   ]
  },
  {
   "cell_type": "code",
   "execution_count": null,
   "metadata": {},
   "outputs": [
    {
     "name": "stdout",
     "output_type": "stream",
     "text": [
      "Choose from Manhattan, Brooklyn, Queens, Bronx, Staten Island or print Quit to quit: Manhattan\n",
      "Choose from 'Private room', 'Entire home/apt', 'Shared room'Private room\n",
      "Choose price range from '0-50', '51-100', '101-150','151-200','200-'51-100\n",
      "     neighbourhood_group  price     room_type  number_of_reviews  latitude  \\\n",
      "1879           Manhattan     99  Private room                540  40.71921   \n",
      "225            Manhattan     60  Private room                458  40.82510   \n",
      "1190           Manhattan     72  Private room                451  40.72760   \n",
      "1125           Manhattan     85  Private room                439  40.82537   \n",
      "7              Manhattan     79  Private room                430  40.76489   \n",
      "2092           Manhattan    100  Private room                414  40.72836   \n",
      "2124           Manhattan     91  Private room                395  40.72792   \n",
      "5219           Manhattan     95  Private room                389  40.77632   \n",
      "369            Manhattan     60  Private room                380  40.82773   \n",
      "1651           Manhattan     99  Private room                353  40.77938   \n",
      "\n",
      "      longitude                                               name   host_id  \\\n",
      "1879  -73.99116           Manhattan Lux Loft.Like.Love.Lots.Look !   2369681   \n",
      "225   -73.94287                PRIVATE Room on Historic Sugar Hill    277379   \n",
      "1190  -73.98347                   Cozy Room in Lively East Village   2267153   \n",
      "1125  -73.94392                PRIVATE Room in Spacious, Quiet Apt    277379   \n",
      "7     -73.98493                   Large Furnished Room Near B'way       8967   \n",
      "2092  -73.98163                 East Village Gay Friendly Dbl Room   5074654   \n",
      "2124  -73.98507                  Great Room in Lively East Village   2267153   \n",
      "5219  -73.95458                   Amazing Upper East Side Location  19331457   \n",
      "369   -73.95231                Bright Room With A Great River View    551055   \n",
      "1651  -73.98247  Lovely Loft space near Central Park & Times Sq...   3929012   \n",
      "\n",
      "     price_group  \n",
      "1879      51-100  \n",
      "225       51-100  \n",
      "1190      51-100  \n",
      "1125      51-100  \n",
      "7         51-100  \n",
      "2092      51-100  \n",
      "2124      51-100  \n",
      "5219      51-100  \n",
      "369       51-100  \n",
      "1651      51-100  \n"
     ]
    },
    {
     "data": {
      "text/html": [
       "<div style=\"width:100%;\"><div style=\"position:relative;width:100%;height:0;padding-bottom:60%;\"><iframe src=\"data:text/html;charset=utf-8;base64,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\" style=\"position:absolute;width:100%;height:100%;left:0;top:0;border:none !important;\" allowfullscreen webkitallowfullscreen mozallowfullscreen></iframe></div></div>"
      ],
      "text/plain": [
       "<folium.folium.Map at 0x7f3fc3fb2908>"
      ]
     },
     "metadata": {},
     "output_type": "display_data"
    }
   ],
   "source": [
    "# Read data from csv\n",
    "airbnb_data_origin= pd.read_csv('NYC_airbnb.csv')\n",
    "airbnb_data = airbnb_data_origin.filter(['neighbourhood_group', 'price', 'room_type', 'number_of_reviews', 'latitude',\n",
    "                                         'longitude', 'name', 'host_id'])\n",
    "# Filter by neighborhood\n",
    "list = [\"Manhattan\", \"Brooklyn\", \"Queens\", \"Bronx\", \"Staten Island\"]\n",
    "while True:\n",
    "    user_nbhd = input('Choose from Manhattan, Brooklyn, Queens, Bronx, Staten Island or print Quit to quit: ')\n",
    "    if user_nbhd == \"Quit\":\n",
    "        break\n",
    "    if user_nbhd in list:\n",
    "        user_nbhd_result = airbnb_data[airbnb_data['neighbourhood_group'] == user_nbhd]\n",
    "    else:\n",
    "        print('Please choose from \"Manhattan\", \"Brooklyn\", \"Queens\", \"Bronx\", \"Staten Island\" or enter \"Quit\" to quit')\n",
    "        continue \n",
    "# Filter by room type\n",
    "    list2 = ['Private room', 'Entire home/apt', 'Shared room']\n",
    "    while True:\n",
    "        user_room = input(\"Choose from 'Private room', 'Entire home/apt', 'Shared room'\")\n",
    "        if user_room in list2:\n",
    "            user_room_result = user_nbhd_result[user_nbhd_result['room_type'] == user_room]\n",
    "            break\n",
    "        else:\n",
    "            print('Please choose from \"Private room\", \"Entire home/apt\", \"Shared room\"')\n",
    "            continue\n",
    "    # Filter by price group\n",
    "    while True:\n",
    "        user_room_result['price_group'] = np.nan\n",
    "        user_room_result['price_group'][user_room_result['price'] <= 50] ='0-50'\n",
    "        user_room_result['price_group'][user_room_result['price'].between(51, 101)] = '51-100'\n",
    "        user_room_result['price_group'][user_room_result['price'].between(101, 151)] = '101-150'\n",
    "        user_room_result['price_group'][user_room_result['price'].between(151, 201)] = '151-200'\n",
    "        user_room_result['price_group'][user_room_result['price'] > 200] ='200-'\n",
    "        list3 = ['0-50', '51-100', '101-150','151-200','200-']\n",
    "        user_price = input(f\"Choose price range from '0-50', '51-100', '101-150','151-200','200-'\")\n",
    "        if user_price in list3:\n",
    "            user_price_result = user_room_result[user_room_result['price_group'] == user_price]\n",
    "            # Sort the rooms by number of reviews from high to low\n",
    "            final_sort = user_price_result.sort_values(by=['number_of_reviews'], ascending=False)\n",
    "            print(final_sort.head(10))\n",
    "            CENTER_NYC = (40.7128, -74.0060)\n",
    "            map = folium.Map(location=CENTER_NYC, zoom_start=12)\n",
    "\n",
    "            for row in final_sort.head(10).to_records():\n",
    "                pos = (row['latitude'], row['longitude'])\n",
    "                marker = folium.Marker(location=pos, popup=\"%s, ID: %s\" % (row['name'], row['host_id'])\n",
    "                                      )\n",
    "                map.add_child(marker)\n",
    "            display(map)\n",
    "            break\n",
    "        else:\n",
    "            print(\"Please choose from '0-50', '51-100', '101-150','151-200','200-'\")\n",
    "            continue"
   ]
  },
  {
   "cell_type": "code",
   "execution_count": null,
   "metadata": {},
   "outputs": [],
   "source": [
    "# Read data from csv\n",
    "airbnb_data_origin= pd.read_csv('NYC_airbnb.csv')\n",
    "airbnb_data = airbnb_data_origin.filter(['neighbourhood_group', 'price', 'room_type', 'number_of_reviews', 'latitude',\n",
    "                                         'longitude', 'name', 'host_id'])\n",
    "# Filter by neighborhood\n",
    "list = [\"Manhattan\", \"Brooklyn\", \"Queens\", \"Bronx\", \"Staten Island\"]\n",
    "while True:\n",
    "    user_nbhd = input('Choose from Manhattan, Brooklyn, Queens, Bronx, Staten Island or print Quit to quit: ')\n",
    "    if user_nbhd == \"Quit\":\n",
    "        break\n",
    "    if user_nbhd in list:\n",
    "        user_nbhd_result = airbnb_data[airbnb_data['neighbourhood_group'] == user_nbhd]\n",
    "    else:\n",
    "        print('Please choose from \"Manhattan\", \"Brooklyn\", \"Queens\", \"Bronx\", \"Staten Island\" or enter \"Quit\" to quit')\n",
    "        continue \n",
    "# Filter by room type\n",
    "    list2 = ['Private room', 'Entire home/apt', 'Shared room']\n",
    "    while True:\n",
    "        user_room = input(\"Choose from 'Private room', 'Entire home/apt', 'Shared room'\")\n",
    "        if user_room in list2:\n",
    "            user_room_result = user_nbhd_result[user_nbhd_result['room_type'] == user_room]\n",
    "            break\n",
    "        else:\n",
    "            print('Please choose from \"Private room\", \"Entire home/apt\", \"Shared room\"')\n",
    "            continue\n",
    "    # Filter by price group\n",
    "    while True:\n",
    "        user_room_result['price_group'] = np.nan\n",
    "        user_room_result['price_group'][user_room_result['price'] <= 50] ='0-50'\n",
    "        user_room_result['price_group'][user_room_result['price'].between(51, 101)] = '51-100'\n",
    "        user_room_result['price_group'][user_room_result['price'].between(101, 151)] = '101-150'\n",
    "        user_room_result['price_group'][user_room_result['price'].between(151, 201)] = '151-200'\n",
    "        user_room_result['price_group'][user_room_result['price'] > 200] ='200-'\n",
    "        list3 = ['0-50', '51-100', '101-150','151-200','200-']\n",
    "        user_price = input(f\"Choose price range from '0-50', '51-100', '101-150','151-200','200-'\")\n",
    "        if user_price in list3:\n",
    "            user_price_result = user_room_result[user_room_result['price_group'] == user_price]\n",
    "            # Sort the rooms by number of reviews from high to low\n",
    "            final_sort = user_price_result.sort_values(by=['number_of_reviews'], ascending=False)\n",
    "            print(final_sort.head(10))\n",
    "            CENTER_NYC = (40.7128, -74.0060)\n",
    "            map = folium.Map(location=CENTER_NYC, zoom_start=12)\n",
    "\n",
    "            for row in final_sort.head(10).to_records():\n",
    "                pos = (row['latitude'], row['longitude'])\n",
    "                marker = folium.Marker(location=pos, popup=\"%s, ID: %s\" % (row['name'], row['host_id'])\n",
    "                                      )\n",
    "                map.add_child(marker)\n",
    "            display(map)\n",
    "            break\n",
    "        else:\n",
    "            print(\"Please choose from '0-50', '51-100', '101-150','151-200','200-'\")\n",
    "            continue"
   ]
  },
  {
   "cell_type": "code",
   "execution_count": null,
   "metadata": {},
   "outputs": [],
   "source": [
    "restaurant_data_origin= pd.read_csv('nyc_restaurants.csv')\n",
    "restaurant_data = restaurant_data_origin.filter(['Name', 'Borough', 'Building', 'Street', 'ZIPCODE',\n",
    "                                         'longitude', 'name', 'host_id'])"
   ]
  }
 ],
 "metadata": {
  "kernelspec": {
   "display_name": "Python 3",
   "language": "python",
   "name": "python3"
  },
  "language_info": {
   "codemirror_mode": {
    "name": "ipython",
    "version": 3
   },
   "file_extension": ".py",
   "mimetype": "text/x-python",
   "name": "python",
   "nbconvert_exporter": "python",
   "pygments_lexer": "ipython3",
   "version": "3.7.3"
  }
 },
 "nbformat": 4,
 "nbformat_minor": 2
}
