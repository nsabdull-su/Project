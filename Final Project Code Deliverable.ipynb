{
 "cells": [
  {
   "cell_type": "markdown",
   "metadata": {},
   "source": [
    "# Final Project Demo Day: The Ultimate NYC Package\n",
    "# Explanation\n",
    "\n",
    "New York City can be an overwhelming city to visit. Whether it's your first time or you're a returning visitor, choosing a place to stay and choosing restaurants with so many options can be difficult. Our project will help you choose an AirBnB and restaurants based on the cuisine you would like. Go on and try it!\n",
    "\n",
    "\n"
   ]
  },
  {
   "cell_type": "code",
   "execution_count": 1,
   "metadata": {},
   "outputs": [
    {
     "name": "stdout",
     "output_type": "stream",
     "text": [
      "Requirement already satisfied: folium in /opt/conda/lib/python3.7/site-packages (0.10.0)\n",
      "Requirement already satisfied: requests in /opt/conda/lib/python3.7/site-packages (from folium) (2.22.0)\n",
      "Requirement already satisfied: jinja2>=2.9 in /opt/conda/lib/python3.7/site-packages (from folium) (2.10.1)\n",
      "Requirement already satisfied: branca>=0.3.0 in /opt/conda/lib/python3.7/site-packages (from folium) (0.3.1)\n",
      "Requirement already satisfied: numpy in /opt/conda/lib/python3.7/site-packages (from folium) (1.17.1)\n",
      "Requirement already satisfied: idna<2.9,>=2.5 in /opt/conda/lib/python3.7/site-packages (from requests->folium) (2.8)\n",
      "Requirement already satisfied: chardet<3.1.0,>=3.0.2 in /opt/conda/lib/python3.7/site-packages (from requests->folium) (3.0.4)\n",
      "Requirement already satisfied: certifi>=2017.4.17 in /opt/conda/lib/python3.7/site-packages (from requests->folium) (2019.6.16)\n",
      "Requirement already satisfied: urllib3!=1.25.0,!=1.25.1,<1.26,>=1.21.1 in /opt/conda/lib/python3.7/site-packages (from requests->folium) (1.24.2)\n",
      "Requirement already satisfied: MarkupSafe>=0.23 in /opt/conda/lib/python3.7/site-packages (from jinja2>=2.9->folium) (1.1.1)\n",
      "Requirement already satisfied: six in /opt/conda/lib/python3.7/site-packages (from branca>=0.3.0->folium) (1.12.0)\n"
     ]
    }
   ],
   "source": [
    "import warnings\n",
    "warnings.filterwarnings('ignore')\n",
    "import pandas as pd\n",
    "import numpy as np\n",
    "! pip install folium\n",
    "import folium"
   ]
  },
  {
   "cell_type": "code",
   "execution_count": 3,
   "metadata": {},
   "outputs": [
    {
     "name": "stdout",
     "output_type": "stream",
     "text": [
      "Choose from Manhattan, Brooklyn, Queens, Bronx, Staten Island or print Quit to quit: Brooklyn\n",
      "Choose from 'Private room', 'Entire home/apt', 'Shared room'Shared room\n",
      "Choose price range from '0-50', '51-100', '101-150','151-200','200+'101-150\n"
     ]
    },
    {
     "data": {
      "text/html": [
       "<div style=\"width:100%;\"><div style=\"position:relative;width:100%;height:0;padding-bottom:60%;\"><iframe src=\"data:text/html;charset=utf-8;base64,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\" style=\"position:absolute;width:100%;height:100%;left:0;top:0;border:none !important;\" allowfullscreen webkitallowfullscreen mozallowfullscreen></iframe></div></div>"
      ],
      "text/plain": [
       "<folium.folium.Map at 0x7f2e80df31d0>"
      ]
     },
     "metadata": {},
     "output_type": "display_data"
    },
    {
     "data": {
      "text/html": [
       "<div>\n",
       "<style scoped>\n",
       "    .dataframe tbody tr th:only-of-type {\n",
       "        vertical-align: middle;\n",
       "    }\n",
       "\n",
       "    .dataframe tbody tr th {\n",
       "        vertical-align: top;\n",
       "    }\n",
       "\n",
       "    .dataframe thead th {\n",
       "        text-align: right;\n",
       "    }\n",
       "</style>\n",
       "<table border=\"1\" class=\"dataframe\">\n",
       "  <thead>\n",
       "    <tr style=\"text-align: right;\">\n",
       "      <th></th>\n",
       "      <th>name</th>\n",
       "      <th>host_id</th>\n",
       "      <th>price</th>\n",
       "    </tr>\n",
       "  </thead>\n",
       "  <tbody>\n",
       "    <tr>\n",
       "      <td>2027</td>\n",
       "      <td>Brooklyn-Bedstuy-Studio</td>\n",
       "      <td>4808242</td>\n",
       "      <td>110</td>\n",
       "    </tr>\n",
       "    <tr>\n",
       "      <td>40303</td>\n",
       "      <td>Sunny Shared Vintage Loft</td>\n",
       "      <td>806774</td>\n",
       "      <td>125</td>\n",
       "    </tr>\n",
       "    <tr>\n",
       "      <td>31695</td>\n",
       "      <td>Trendy Stylish Chic Loft in Greenpoint!</td>\n",
       "      <td>46594096</td>\n",
       "      <td>125</td>\n",
       "    </tr>\n",
       "    <tr>\n",
       "      <td>41994</td>\n",
       "      <td>Big sunnny bedroom with a giant private garden</td>\n",
       "      <td>3002665</td>\n",
       "      <td>125</td>\n",
       "    </tr>\n",
       "    <tr>\n",
       "      <td>47799</td>\n",
       "      <td>Great Room  Great Location Williamsburg</td>\n",
       "      <td>35082637</td>\n",
       "      <td>115</td>\n",
       "    </tr>\n",
       "  </tbody>\n",
       "</table>\n",
       "</div>"
      ],
      "text/plain": [
       "                                                 name   host_id  price\n",
       "2027                          Brooklyn-Bedstuy-Studio   4808242    110\n",
       "40303                       Sunny Shared Vintage Loft    806774    125\n",
       "31695         Trendy Stylish Chic Loft in Greenpoint!  46594096    125\n",
       "41994  Big sunnny bedroom with a giant private garden   3002665    125\n",
       "47799         Great Room  Great Location Williamsburg  35082637    115"
      ]
     },
     "metadata": {},
     "output_type": "display_data"
    },
    {
     "name": "stdout",
     "output_type": "stream",
     "text": [
      "enter the name you want to stay: Sunny Shared Vintage Loft\n"
     ]
    },
    {
     "data": {
      "text/html": [
       "<div style=\"width:100%;\"><div style=\"position:relative;width:100%;height:0;padding-bottom:60%;\"><iframe src=\"data:text/html;charset=utf-8;base64,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\" style=\"position:absolute;width:100%;height:100%;left:0;top:0;border:none !important;\" allowfullscreen webkitallowfullscreen mozallowfullscreen></iframe></div></div>"
      ],
      "text/plain": [
       "<folium.folium.Map at 0x7f2e80d61048>"
      ]
     },
     "metadata": {},
     "output_type": "display_data"
    },
    {
     "data": {
      "text/html": [
       "<div>\n",
       "<style scoped>\n",
       "    .dataframe tbody tr th:only-of-type {\n",
       "        vertical-align: middle;\n",
       "    }\n",
       "\n",
       "    .dataframe tbody tr th {\n",
       "        vertical-align: top;\n",
       "    }\n",
       "\n",
       "    .dataframe thead th {\n",
       "        text-align: right;\n",
       "    }\n",
       "</style>\n",
       "<table border=\"1\" class=\"dataframe\">\n",
       "  <thead>\n",
       "    <tr style=\"text-align: right;\">\n",
       "      <th></th>\n",
       "      <th>neighbourhood_group</th>\n",
       "      <th>price</th>\n",
       "      <th>room_type</th>\n",
       "      <th>number_of_reviews</th>\n",
       "      <th>latitude</th>\n",
       "      <th>longitude</th>\n",
       "      <th>name</th>\n",
       "      <th>host_id</th>\n",
       "    </tr>\n",
       "  </thead>\n",
       "  <tbody>\n",
       "    <tr>\n",
       "      <td>40303</td>\n",
       "      <td>Brooklyn</td>\n",
       "      <td>125</td>\n",
       "      <td>Shared room</td>\n",
       "      <td>5</td>\n",
       "      <td>40.70823</td>\n",
       "      <td>-73.96685</td>\n",
       "      <td>Sunny Shared Vintage Loft</td>\n",
       "      <td>806774</td>\n",
       "    </tr>\n",
       "  </tbody>\n",
       "</table>\n",
       "</div>"
      ],
      "text/plain": [
       "      neighbourhood_group  price    room_type  number_of_reviews  latitude  \\\n",
       "40303            Brooklyn    125  Shared room                  5  40.70823   \n",
       "\n",
       "       longitude                       name  host_id  \n",
       "40303  -73.96685  Sunny Shared Vintage Loft   806774  "
      ]
     },
     "metadata": {},
     "output_type": "display_data"
    },
    {
     "name": "stdout",
     "output_type": "stream",
     "text": [
      "Which street or avenue is your AirBnB on/near? (please enter): Wythe Avenue\n",
      "There are 67 restaurants on this street.\n",
      "Enter cuisine: Mexican\n"
     ]
    },
    {
     "data": {
      "text/html": [
       "<div>\n",
       "<style scoped>\n",
       "    .dataframe tbody tr th:only-of-type {\n",
       "        vertical-align: middle;\n",
       "    }\n",
       "\n",
       "    .dataframe tbody tr th {\n",
       "        vertical-align: top;\n",
       "    }\n",
       "\n",
       "    .dataframe thead th {\n",
       "        text-align: right;\n",
       "    }\n",
       "</style>\n",
       "<table border=\"1\" class=\"dataframe\">\n",
       "  <thead>\n",
       "    <tr style=\"text-align: right;\">\n",
       "      <th></th>\n",
       "      <th>Quantity</th>\n",
       "    </tr>\n",
       "  </thead>\n",
       "  <tbody>\n",
       "    <tr>\n",
       "      <td>Wythe Diner/ La Esquina</td>\n",
       "      <td>39</td>\n",
       "    </tr>\n",
       "    <tr>\n",
       "      <td>Rosarito Fish Shack &amp; Shelter Pizza</td>\n",
       "      <td>15</td>\n",
       "    </tr>\n",
       "  </tbody>\n",
       "</table>\n",
       "</div>"
      ],
      "text/plain": [
       "                                     Quantity\n",
       "Wythe Diner/ La Esquina                    39\n",
       "Rosarito Fish Shack & Shelter Pizza        15"
      ]
     },
     "metadata": {},
     "output_type": "display_data"
    },
    {
     "name": "stdout",
     "output_type": "stream",
     "text": [
      "Hope you found the right AirBnB and restaurant of your choice!\n",
      "Choose from Manhattan, Brooklyn, Queens, Bronx, Staten Island or print Quit to quit: Quit\n"
     ]
    }
   ],
   "source": [
    "# Read data from csv\n",
    "airbnb_data_origin= pd.read_csv('NYC_airbnb.csv')\n",
    "airbnb_data = airbnb_data_origin.filter(['neighbourhood_group', 'price', 'room_type', 'number_of_reviews', 'latitude',\n",
    "                                         'longitude', 'name', 'host_id'])\n",
    "restaurants = pd.read_csv('nyc_restaurants.csv')\n",
    "\n",
    "# Filter by neighborhood\n",
    "list = [\"Manhattan\", \"Brooklyn\", \"Queens\", \"Bronx\", \"Staten Island\"]\n",
    "while True:\n",
    "    user_nbhd = input('Choose from Manhattan, Brooklyn, Queens, Bronx, Staten Island or print Quit to quit: ')\n",
    "    if user_nbhd == \"Quit\":\n",
    "        break\n",
    "    if user_nbhd in list:\n",
    "        user_nbhd_result = airbnb_data[airbnb_data['neighbourhood_group'] == user_nbhd]\n",
    "    else:\n",
    "        print('Please choose from \"Manhattan\", \"Brooklyn\", \"Queens\", \"Bronx\", \"Staten Island\" or enter \"Quit\" to quit')\n",
    "        continue\n",
    "# Filter by room type\n",
    "    list2 = ['Private room', 'Entire home/apt', 'Shared room']\n",
    "    while True:\n",
    "        user_room = input(\"Choose from 'Private room', 'Entire home/apt', 'Shared room'\")\n",
    "        if user_room in list2:\n",
    "            user_room_result = user_nbhd_result[user_nbhd_result['room_type'] == user_room]\n",
    "            break\n",
    "        else:\n",
    "            print('Please choose from \"Private room\", \"Entire home/apt\", \"Shared room\"')\n",
    "            continue\n",
    "    # Filter by price group\n",
    "    while True:\n",
    "        user_room_result['price_group'] = np.nan\n",
    "        user_room_result['price_group'][user_room_result['price'] <= 50] ='0-50'\n",
    "        user_room_result['price_group'][user_room_result['price'].between(51, 101)] = '51-100'\n",
    "        user_room_result['price_group'][user_room_result['price'].between(101, 151)] = '101-150'\n",
    "        user_room_result['price_group'][user_room_result['price'].between(151, 201)] = '151-200'\n",
    "        user_room_result['price_group'][user_room_result['price'] > 200] ='200+'\n",
    "        list3 = ['0-50', '51-100', '101-150','151-200','200+']\n",
    "        user_price = input(f\"Choose price range from '0-50', '51-100', '101-150','151-200','200+'\")\n",
    "        if user_price in list3:\n",
    "            user_price_result = user_room_result[user_room_result['price_group'] == user_price]\n",
    "            # Sort the rooms by number of reviews from high to low\n",
    "            final_sort = user_price_result.sort_values(by=['number_of_reviews'], ascending=False)\n",
    "            CENTER_NYC = (40.7128, -74.0060)\n",
    "            map = folium.Map(location=CENTER_NYC, zoom_start=12)\n",
    "            #plot the airbnbs on the map to let users make a better decision\n",
    "            for row in final_sort.head(5).to_records():\n",
    "                pos = (row['latitude'], row['longitude'])\n",
    "                marker = folium.Marker(location=pos, popup=\"%s, ID: %s\" % (row['name'], row['host_id'])\n",
    "                                      )\n",
    "                map.add_child(marker)\n",
    "            display(map)\n",
    "           \n",
    "            final_choice = final_sort.head(5).filter(['name', 'host_id', 'price'])\n",
    "            final_df = pd.DataFrame(final_choice)\n",
    "            display(final_df)\n",
    "           \n",
    "            name_choice = input('enter the name you want to stay: ')\n",
    "            name1 = airbnb_data[airbnb_data['name'] == name_choice]\n",
    "            name_df = pd.DataFrame(name1)\n",
    "           #plot the user's choices on the map\n",
    "            map2 = folium.Map(location=CENTER_NYC, zoom_start=12)\n",
    "            pos2 = (name_df['latitude'], name_df['longitude'])\n",
    "            marker2 = folium.Marker(location=pos2, popup=\"%s\" % (name_df['name']))\n",
    "            map2.add_child(marker2)\n",
    "            display(map2)\n",
    "            display(name_df)\n",
    "           \n",
    "            df = pd.read_csv('nyc_restaurants.csv')\n",
    "            street_names = df['Street']\n",
    "            res_names = df['Name']\n",
    "            res_cuisines = df['Cuisine Description']\n",
    "            list_of_streets = []\n",
    "            list_of_restaurants = []\n",
    "            list_of_cuisines = []\n",
    "            i = 0\n",
    "           \n",
    "            for names in street_names:\n",
    "                list_of_streets.append(names)\n",
    "                if (len(list_of_streets) > 150000):\n",
    "                    break\n",
    "            for names in res_names:\n",
    "                list_of_restaurants.append(names)\n",
    "                if (len(list_of_restaurants) > 150000):\n",
    "                    break\n",
    "            for names in res_cuisines:\n",
    "                list_of_cuisines.append(names)\n",
    "                if (len(list_of_cuisines) > 150000):\n",
    "                    break\n",
    "\n",
    "            def get_user_street():\n",
    "                user_street = input(\"Which street or avenue is your AirBnB on/near? (please enter): \")\n",
    "                return user_street\n",
    "\n",
    "            def check_res_in_street(user_street):\n",
    "                if (user_street) in list_of_streets:\n",
    "                    return True\n",
    "                else:\n",
    "                    return False\n",
    "\n",
    "            def find_num_of_res(user_street):\n",
    "                count = 0\n",
    "                for words in list_of_streets:\n",
    "                    if (words == user_street):\n",
    "                        count += 1\n",
    "                return count\n",
    "\n",
    "            def ask_show_more(user_street):\n",
    "                    cuisine_type = input(\"Enter cuisine: \")\n",
    "                    food = restaurants[ (restaurants['Street'] == user_street) & (restaurants['Cuisine Description'] == cuisine_type)]\n",
    "                    value_count = {}\n",
    "                    value_count['Quantity'] = food['Name'].value_counts()\n",
    "                    count_df = pd.DataFrame(value_count)\n",
    "                    display(count_df)\n",
    "                    print(\"Hope you found the right AirBnB and restaurant of your choice!\")\n",
    "\n",
    "            def main():        \n",
    "                user_street = get_user_street()\n",
    "\n",
    "                if (check_res_in_street(user_street) == True):\n",
    "                    num_res_in_street = find_num_of_res(user_street)\n",
    "                    if (num_res_in_street > 1):\n",
    "                        print(\"There are \" + str(num_res_in_street) + \" restaurants on this street.\")\n",
    "                        ask_show_more(user_street)\n",
    "                    else:\n",
    "                        print(\"There is 1 restaurant on this street.\")\n",
    "                        ask_show_more(user_street)\n",
    "                else:\n",
    "                    print(\"There are no restaurants on this street. Start over.\")\n",
    "                    main()\n",
    "           \n",
    "            main()\n",
    "           \n",
    "        else:\n",
    "            print(\"Please choose from '0-50', '51-100', '101-150','151-200','200-'\")\n",
    "            continue\n",
    "           \n",
    "        break\n",
    "            # break to exit this while loop"
   ]
  },
  {
   "cell_type": "code",
   "execution_count": null,
   "metadata": {},
   "outputs": [],
   "source": []
  },
  {
   "cell_type": "code",
   "execution_count": null,
   "metadata": {},
   "outputs": [],
   "source": []
  }
 ],
 "metadata": {
  "kernelspec": {
   "display_name": "Python 3",
   "language": "python",
   "name": "python3"
  },
  "language_info": {
   "codemirror_mode": {
    "name": "ipython",
    "version": 3
   },
   "file_extension": ".py",
   "mimetype": "text/x-python",
   "name": "python",
   "nbconvert_exporter": "python",
   "pygments_lexer": "ipython3",
   "version": "3.7.3"
  }
 },
 "nbformat": 4,
 "nbformat_minor": 2
}
