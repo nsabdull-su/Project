{
 "cells": [
  {
   "cell_type": "markdown",
   "metadata": {},
   "source": [
    "# Final Project Demo Day: The Ultimate NYC Package\n",
    "# Explanation\n",
    "\n",
    "New York City can be an overwhelming city to visit. Whether it's your first time or you're a returning visitor, choosing a place to stay and choosing restaurants with so many options can be difficult. Our project will help you choose an AirBnB and restaurants based on the cuisine you would like. Go on and try it!\n",
    "\n",
    "\n"
   ]
  },
  {
   "cell_type": "code",
   "execution_count": null,
   "metadata": {},
   "outputs": [],
   "source": [
    "import warnings\n",
    "warnings.filterwarnings('ignore')\n",
    "import pandas as pd\n",
    "import numpy as np\n",
    "! pip install folium\n",
    "import folium"
   ]
  },
  {
   "cell_type": "code",
   "execution_count": 16,
   "metadata": {},
   "outputs": [
    {
     "name": "stdout",
     "output_type": "stream",
     "text": [
      "Choose from Manhattan, Brooklyn, Queens, Bronx, Staten Island or print Quit to quit: Manhattan\n",
      "Choose from 'Private room', 'Entire home/apt', 'Shared room'Private\n",
      "Please choose from \"Private room\", \"Entire home/apt\", \"Shared room\"\n",
      "Choose from 'Private room', 'Entire home/apt', 'Shared room'Private room\n",
      "Choose price range from '0-50', '51-100', '101-150','151-200','200+'151-200\n"
     ]
    },
    {
     "data": {
      "text/html": [
       "<div style=\"width:100%;\"><div style=\"position:relative;width:100%;height:0;padding-bottom:60%;\"><iframe src=\"data:text/html;charset=utf-8;base64,PCFET0NUWVBFIGh0bWw+CjxoZWFkPiAgICAKICAgIDxtZXRhIGh0dHAtZXF1aXY9ImNvbnRlbnQtdHlwZSIgY29udGVudD0idGV4dC9odG1sOyBjaGFyc2V0PVVURi04IiAvPgogICAgCiAgICAgICAgPHNjcmlwdD4KICAgICAgICAgICAgTF9OT19UT1VDSCA9IGZhbHNlOwogICAgICAgICAgICBMX0RJU0FCTEVfM0QgPSBmYWxzZTsKICAgICAgICA8L3NjcmlwdD4KICAgIAogICAgPHNjcmlwdCBzcmM9Imh0dHBzOi8vY2RuLmpzZGVsaXZyLm5ldC9ucG0vbGVhZmxldEAxLjUuMS9kaXN0L2xlYWZsZXQuanMiPjwvc2NyaXB0PgogICAgPHNjcmlwdCBzcmM9Imh0dHBzOi8vY29kZS5qcXVlcnkuY29tL2pxdWVyeS0xLjEyLjQubWluLmpzIj48L3NjcmlwdD4KICAgIDxzY3JpcHQgc3JjPSJodHRwczovL21heGNkbi5ib290c3RyYXBjZG4uY29tL2Jvb3RzdHJhcC8zLjIuMC9qcy9ib290c3RyYXAubWluLmpzIj48L3NjcmlwdD4KICAgIDxzY3JpcHQgc3JjPSJodHRwczovL2NkbmpzLmNsb3VkZmxhcmUuY29tL2FqYXgvbGlicy9MZWFmbGV0LmF3ZXNvbWUtbWFya2Vycy8yLjAuMi9sZWFmbGV0LmF3ZXNvbWUtbWFya2Vycy5qcyI+PC9zY3JpcHQ+CiAgICA8bGluayByZWw9InN0eWxlc2hlZXQiIGhyZWY9Imh0dHBzOi8vY2RuLmpzZGVsaXZyLm5ldC9ucG0vbGVhZmxldEAxLjUuMS9kaXN0L2xlYWZsZXQuY3NzIi8+CiAgICA8bGluayByZWw9InN0eWxlc2hlZXQiIGhyZWY9Imh0dHBzOi8vbWF4Y2RuLmJvb3RzdHJhcGNkbi5jb20vYm9vdHN0cmFwLzMuMi4wL2Nzcy9ib290c3RyYXAubWluLmNzcyIvPgogICAgPGxpbmsgcmVsPSJzdHlsZXNoZWV0IiBocmVmPSJodHRwczovL21heGNkbi5ib290c3RyYXBjZG4uY29tL2Jvb3RzdHJhcC8zLjIuMC9jc3MvYm9vdHN0cmFwLXRoZW1lLm1pbi5jc3MiLz4KICAgIDxsaW5rIHJlbD0ic3R5bGVzaGVldCIgaHJlZj0iaHR0cHM6Ly9tYXhjZG4uYm9vdHN0cmFwY2RuLmNvbS9mb250LWF3ZXNvbWUvNC42LjMvY3NzL2ZvbnQtYXdlc29tZS5taW4uY3NzIi8+CiAgICA8bGluayByZWw9InN0eWxlc2hlZXQiIGhyZWY9Imh0dHBzOi8vY2RuanMuY2xvdWRmbGFyZS5jb20vYWpheC9saWJzL0xlYWZsZXQuYXdlc29tZS1tYXJrZXJzLzIuMC4yL2xlYWZsZXQuYXdlc29tZS1tYXJrZXJzLmNzcyIvPgogICAgPGxpbmsgcmVsPSJzdHlsZXNoZWV0IiBocmVmPSJodHRwczovL3Jhd2Nkbi5naXRoYWNrLmNvbS9weXRob24tdmlzdWFsaXphdGlvbi9mb2xpdW0vbWFzdGVyL2ZvbGl1bS90ZW1wbGF0ZXMvbGVhZmxldC5hd2Vzb21lLnJvdGF0ZS5jc3MiLz4KICAgIDxzdHlsZT5odG1sLCBib2R5IHt3aWR0aDogMTAwJTtoZWlnaHQ6IDEwMCU7bWFyZ2luOiAwO3BhZGRpbmc6IDA7fTwvc3R5bGU+CiAgICA8c3R5bGU+I21hcCB7cG9zaXRpb246YWJzb2x1dGU7dG9wOjA7Ym90dG9tOjA7cmlnaHQ6MDtsZWZ0OjA7fTwvc3R5bGU+CiAgICAKICAgICAgICAgICAgPG1ldGEgbmFtZT0idmlld3BvcnQiIGNvbnRlbnQ9IndpZHRoPWRldmljZS13aWR0aCwKICAgICAgICAgICAgICAgIGluaXRpYWwtc2NhbGU9MS4wLCBtYXhpbXVtLXNjYWxlPTEuMCwgdXNlci1zY2FsYWJsZT1ubyIgLz4KICAgICAgICAgICAgPHN0eWxlPgogICAgICAgICAgICAgICAgI21hcF84OGI0ZjJiY2YxZmY0ZjQ4Yjg3ZTVkMjYyNmU4MGY4NCB7CiAgICAgICAgICAgICAgICAgICAgcG9zaXRpb246IHJlbGF0aXZlOwogICAgICAgICAgICAgICAgICAgIHdpZHRoOiAxMDAuMCU7CiAgICAgICAgICAgICAgICAgICAgaGVpZ2h0OiAxMDAuMCU7CiAgICAgICAgICAgICAgICAgICAgbGVmdDogMC4wJTsKICAgICAgICAgICAgICAgICAgICB0b3A6IDAuMCU7CiAgICAgICAgICAgICAgICB9CiAgICAgICAgICAgIDwvc3R5bGU+CiAgICAgICAgCjwvaGVhZD4KPGJvZHk+ICAgIAogICAgCiAgICAgICAgICAgIDxkaXYgY2xhc3M9ImZvbGl1bS1tYXAiIGlkPSJtYXBfODhiNGYyYmNmMWZmNGY0OGI4N2U1ZDI2MjZlODBmODQiID48L2Rpdj4KICAgICAgICAKPC9ib2R5Pgo8c2NyaXB0PiAgICAKICAgIAogICAgICAgICAgICB2YXIgbWFwXzg4YjRmMmJjZjFmZjRmNDhiODdlNWQyNjI2ZTgwZjg0ID0gTC5tYXAoCiAgICAgICAgICAgICAgICAibWFwXzg4YjRmMmJjZjFmZjRmNDhiODdlNWQyNjI2ZTgwZjg0IiwKICAgICAgICAgICAgICAgIHsKICAgICAgICAgICAgICAgICAgICBjZW50ZXI6IFs0MC43MTI4LCAtNzQuMDA2XSwKICAgICAgICAgICAgICAgICAgICBjcnM6IEwuQ1JTLkVQU0czODU3LAogICAgICAgICAgICAgICAgICAgIHpvb206IDEyLAogICAgICAgICAgICAgICAgICAgIHpvb21Db250cm9sOiB0cnVlLAogICAgICAgICAgICAgICAgICAgIHByZWZlckNhbnZhczogZmFsc2UsCiAgICAgICAgICAgICAgICB9CiAgICAgICAgICAgICk7CgogICAgICAgICAgICAKCiAgICAgICAgCiAgICAKICAgICAgICAgICAgdmFyIHRpbGVfbGF5ZXJfNjYzMDY4OWRkYmI3NGQ4NTlkNGUzZmZiN2Q5MTUxMWIgPSBMLnRpbGVMYXllcigKICAgICAgICAgICAgICAgICJodHRwczovL3tzfS50aWxlLm9wZW5zdHJlZXRtYXAub3JnL3t6fS97eH0ve3l9LnBuZyIsCiAgICAgICAgICAgICAgICB7ImF0dHJpYnV0aW9uIjogIkRhdGEgYnkgXHUwMDI2Y29weTsgXHUwMDNjYSBocmVmPVwiaHR0cDovL29wZW5zdHJlZXRtYXAub3JnXCJcdTAwM2VPcGVuU3RyZWV0TWFwXHUwMDNjL2FcdTAwM2UsIHVuZGVyIFx1MDAzY2EgaHJlZj1cImh0dHA6Ly93d3cub3BlbnN0cmVldG1hcC5vcmcvY29weXJpZ2h0XCJcdTAwM2VPRGJMXHUwMDNjL2FcdTAwM2UuIiwgImRldGVjdFJldGluYSI6IGZhbHNlLCAibWF4TmF0aXZlWm9vbSI6IDE4LCAibWF4Wm9vbSI6IDE4LCAibWluWm9vbSI6IDAsICJub1dyYXAiOiBmYWxzZSwgIm9wYWNpdHkiOiAxLCAic3ViZG9tYWlucyI6ICJhYmMiLCAidG1zIjogZmFsc2V9CiAgICAgICAgICAgICkuYWRkVG8obWFwXzg4YjRmMmJjZjFmZjRmNDhiODdlNWQyNjI2ZTgwZjg0KTsKICAgICAgICAKICAgIAogICAgICAgICAgICB2YXIgbWFya2VyXzRhYTlmNzAyNzMzYjRmMWM4YTQ0YjU5YjFlMzEzY2IwID0gTC5tYXJrZXIoCiAgICAgICAgICAgICAgICBbNDAuNzI4MTU5OTk5OTk5OTk1LCAtNzMuOTg4NDMwMDAwMDAwMDFdLAogICAgICAgICAgICAgICAge30KICAgICAgICAgICAgKS5hZGRUbyhtYXBfODhiNGYyYmNmMWZmNGY0OGI4N2U1ZDI2MjZlODBmODQpOwogICAgICAgIAogICAgCiAgICAgICAgdmFyIHBvcHVwXzEzN2ViNTA1ODZiNTRmNzJiMjEzYzk0NjY5YTc4MmM2ID0gTC5wb3B1cCh7Im1heFdpZHRoIjogIjEwMCUifSk7CgogICAgICAgIAogICAgICAgICAgICB2YXIgaHRtbF9mYzI5NmNjNDVkY2Y0OTZlYmRmMTMyMDU0ZTkzODIwMCA9ICQoYDxkaXYgaWQ9Imh0bWxfZmMyOTZjYzQ1ZGNmNDk2ZWJkZjEzMjA1NGU5MzgyMDAiIHN0eWxlPSJ3aWR0aDogMTAwLjAlOyBoZWlnaHQ6IDEwMC4wJTsiPlNwYWNpb3VzIFJvb20gaW4gRWFzdCBWaWxsYWdlL05vSG8sIElEOiA3MjU2MjgxPC9kaXY+YClbMF07CiAgICAgICAgICAgIHBvcHVwXzEzN2ViNTA1ODZiNTRmNzJiMjEzYzk0NjY5YTc4MmM2LnNldENvbnRlbnQoaHRtbF9mYzI5NmNjNDVkY2Y0OTZlYmRmMTMyMDU0ZTkzODIwMCk7CiAgICAgICAgCgogICAgICAgIG1hcmtlcl80YWE5ZjcwMjczM2I0ZjFjOGE0NGI1OWIxZTMxM2NiMC5iaW5kUG9wdXAocG9wdXBfMTM3ZWI1MDU4NmI1NGY3MmIyMTNjOTQ2NjlhNzgyYzYpCiAgICAgICAgOwoKICAgICAgICAKICAgIAogICAgCiAgICAgICAgICAgIHZhciBtYXJrZXJfNzdhODBmNTUxMzViNGU5MjlhYzE0ZTU0MTViYTcyMTkgPSBMLm1hcmtlcigKICAgICAgICAgICAgICAgIFs0MC43NjU4LCAtNzMuOTg3OTVdLAogICAgICAgICAgICAgICAge30KICAgICAgICAgICAgKS5hZGRUbyhtYXBfODhiNGYyYmNmMWZmNGY0OGI4N2U1ZDI2MjZlODBmODQpOwogICAgICAgIAogICAgCiAgICAgICAgdmFyIHBvcHVwX2E5MmNlOTQ5NGNlMzQ0NzFiNjI3YTczNzQzZGYzOTA3ID0gTC5wb3B1cCh7Im1heFdpZHRoIjogIjEwMCUifSk7CgogICAgICAgIAogICAgICAgICAgICB2YXIgaHRtbF84MTEzZmUxZDJjZGY0MmFhODI2MjYwNGYwYjg4MTI4MCA9ICQoYDxkaXYgaWQ9Imh0bWxfODExM2ZlMWQyY2RmNDJhYTgyNjI2MDRmMGI4ODEyODAiIHN0eWxlPSJ3aWR0aDogMTAwLjAlOyBoZWlnaHQ6IDEwMC4wJTsiPkR1cGxleCB3aXRoIFByaXZhdGUgQmF0aHJvb20gYnkgVGltZXMgU3F1YXJlLCBJRDogOTI1MjAxNTQ8L2Rpdj5gKVswXTsKICAgICAgICAgICAgcG9wdXBfYTkyY2U5NDk0Y2UzNDQ3MWI2MjdhNzM3NDNkZjM5MDcuc2V0Q29udGVudChodG1sXzgxMTNmZTFkMmNkZjQyYWE4MjYyNjA0ZjBiODgxMjgwKTsKICAgICAgICAKCiAgICAgICAgbWFya2VyXzc3YTgwZjU1MTM1YjRlOTI5YWMxNGU1NDE1YmE3MjE5LmJpbmRQb3B1cChwb3B1cF9hOTJjZTk0OTRjZTM0NDcxYjYyN2E3Mzc0M2RmMzkwNykKICAgICAgICA7CgogICAgICAgIAogICAgCiAgICAKICAgICAgICAgICAgdmFyIG1hcmtlcl84NGVlYzEyNDY4OTY0NTIyOTFjMjRiNGJjYmFlZmY3MCA9IEwubWFya2VyKAogICAgICAgICAgICAgICAgWzQwLjc1Mjg0LCAtNzQuMDAxMzgwMDAwMDAwMDFdLAogICAgICAgICAgICAgICAge30KICAgICAgICAgICAgKS5hZGRUbyhtYXBfODhiNGYyYmNmMWZmNGY0OGI4N2U1ZDI2MjZlODBmODQpOwogICAgICAgIAogICAgCiAgICAgICAgdmFyIHBvcHVwX2E5ZjRmY2I2NGUzMjQ4NzRhNmJkMzA0NDk3YTI0NmFiID0gTC5wb3B1cCh7Im1heFdpZHRoIjogIjEwMCUifSk7CgogICAgICAgIAogICAgICAgICAgICB2YXIgaHRtbF9kMmU2N2I5MWRkYzE0NjJmYWY5ODBkMWVjNzA1ZWIwOCA9ICQoYDxkaXYgaWQ9Imh0bWxfZDJlNjdiOTFkZGMxNDYyZmFmOTgwZDFlYzcwNWViMDgiIHN0eWxlPSJ3aWR0aDogMTAwLjAlOyBoZWlnaHQ6IDEwMC4wJTsiPk9OIEhJR0hMSU5FISBQcml2YXRlIHJvb20gJiBiYXRoLCBJRDogNDMyMzYyNTwvZGl2PmApWzBdOwogICAgICAgICAgICBwb3B1cF9hOWY0ZmNiNjRlMzI0ODc0YTZiZDMwNDQ5N2EyNDZhYi5zZXRDb250ZW50KGh0bWxfZDJlNjdiOTFkZGMxNDYyZmFmOTgwZDFlYzcwNWViMDgpOwogICAgICAgIAoKICAgICAgICBtYXJrZXJfODRlZWMxMjQ2ODk2NDUyMjkxYzI0YjRiY2JhZWZmNzAuYmluZFBvcHVwKHBvcHVwX2E5ZjRmY2I2NGUzMjQ4NzRhNmJkMzA0NDk3YTI0NmFiKQogICAgICAgIDsKCiAgICAgICAgCiAgICAKICAgIAogICAgICAgICAgICB2YXIgbWFya2VyX2Q4ZDkwMDQzNjc3ZjRhNTBhZDk3YzkxM2IyYWM2YzJkID0gTC5tYXJrZXIoCiAgICAgICAgICAgICAgICBbNDAuNzU5NjQwMDAwMDAwMDA1LCAtNzMuOTg1MzQwMDAwMDAwMDFdLAogICAgICAgICAgICAgICAge30KICAgICAgICAgICAgKS5hZGRUbyhtYXBfODhiNGYyYmNmMWZmNGY0OGI4N2U1ZDI2MjZlODBmODQpOwogICAgICAgIAogICAgCiAgICAgICAgdmFyIHBvcHVwXzA0YTIwN2E2YzI3ZDRjYTZhYzUyZjNmZTJmZGJhZmU3ID0gTC5wb3B1cCh7Im1heFdpZHRoIjogIjEwMCUifSk7CgogICAgICAgIAogICAgICAgICAgICB2YXIgaHRtbF9mNWJlZmY2NDhjMmQ0YzE2YjE5YjdkOGRiYmUwZjU4OSA9ICQoYDxkaXYgaWQ9Imh0bWxfZjViZWZmNjQ4YzJkNGMxNmIxOWI3ZDhkYmJlMGY1ODkiIHN0eWxlPSJ3aWR0aDogMTAwLjAlOyBoZWlnaHQ6IDEwMC4wJTsiPlN1bW1lciBTcGVjaWFsIFByaWNlIFRpbWVzIFNxdWFyZSwgSUQ6IDU5NDQ2ODI8L2Rpdj5gKVswXTsKICAgICAgICAgICAgcG9wdXBfMDRhMjA3YTZjMjdkNGNhNmFjNTJmM2ZlMmZkYmFmZTcuc2V0Q29udGVudChodG1sX2Y1YmVmZjY0OGMyZDRjMTZiMTliN2Q4ZGJiZTBmNTg5KTsKICAgICAgICAKCiAgICAgICAgbWFya2VyX2Q4ZDkwMDQzNjc3ZjRhNTBhZDk3YzkxM2IyYWM2YzJkLmJpbmRQb3B1cChwb3B1cF8wNGEyMDdhNmMyN2Q0Y2E2YWM1MmYzZmUyZmRiYWZlNykKICAgICAgICA7CgogICAgICAgIAogICAgCiAgICAKICAgICAgICAgICAgdmFyIG1hcmtlcl82NDM2NzJkMmI0NjE0Njg2ODY5Mjg3NmYzYTJjNWQwZCA9IEwubWFya2VyKAogICAgICAgICAgICAgICAgWzQwLjc3MTQ4LCAtNzMuOTgyMjZdLAogICAgICAgICAgICAgICAge30KICAgICAgICAgICAgKS5hZGRUbyhtYXBfODhiNGYyYmNmMWZmNGY0OGI4N2U1ZDI2MjZlODBmODQpOwogICAgICAgIAogICAgCiAgICAgICAgdmFyIHBvcHVwXzU4Yzk1Y2ZkZDM3ODQxOWNiZmRiNzlhZGU4YzdmZTdjID0gTC5wb3B1cCh7Im1heFdpZHRoIjogIjEwMCUifSk7CgogICAgICAgIAogICAgICAgICAgICB2YXIgaHRtbF80NDc2NzM1NmM1MWM0YTIxODY1MmY1YWRhOGE1Mjk3NyA9ICQoYDxkaXYgaWQ9Imh0bWxfNDQ3NjczNTZjNTFjNGEyMTg2NTJmNWFkYThhNTI5NzciIHN0eWxlPSJ3aWR0aDogMTAwLjAlOyBoZWlnaHQ6IDEwMC4wJTsiPlByaXZhdGUgU3BhY2Ugd2l0aCBPdXRkb29yIFBhdGlvLCBJRDogMjUxNjk1OTY8L2Rpdj5gKVswXTsKICAgICAgICAgICAgcG9wdXBfNThjOTVjZmRkMzc4NDE5Y2JmZGI3OWFkZThjN2ZlN2Muc2V0Q29udGVudChodG1sXzQ0NzY3MzU2YzUxYzRhMjE4NjUyZjVhZGE4YTUyOTc3KTsKICAgICAgICAKCiAgICAgICAgbWFya2VyXzY0MzY3MmQyYjQ2MTQ2ODY4NjkyODc2ZjNhMmM1ZDBkLmJpbmRQb3B1cChwb3B1cF81OGM5NWNmZGQzNzg0MTljYmZkYjc5YWRlOGM3ZmU3YykKICAgICAgICA7CgogICAgICAgIAogICAgCjwvc2NyaXB0Pg==\" style=\"position:absolute;width:100%;height:100%;left:0;top:0;border:none !important;\" allowfullscreen webkitallowfullscreen mozallowfullscreen></iframe></div></div>"
      ],
      "text/plain": [
       "<folium.folium.Map at 0x7f2116a4f6d8>"
      ]
     },
     "metadata": {},
     "output_type": "display_data"
    },
    {
     "data": {
      "text/html": [
       "<div>\n",
       "<style scoped>\n",
       "    .dataframe tbody tr th:only-of-type {\n",
       "        vertical-align: middle;\n",
       "    }\n",
       "\n",
       "    .dataframe tbody tr th {\n",
       "        vertical-align: top;\n",
       "    }\n",
       "\n",
       "    .dataframe thead th {\n",
       "        text-align: right;\n",
       "    }\n",
       "</style>\n",
       "<table border=\"1\" class=\"dataframe\">\n",
       "  <thead>\n",
       "    <tr style=\"text-align: right;\">\n",
       "      <th></th>\n",
       "      <th>name</th>\n",
       "      <th>host_id</th>\n",
       "      <th>price</th>\n",
       "    </tr>\n",
       "  </thead>\n",
       "  <tbody>\n",
       "    <tr>\n",
       "      <td>7884</td>\n",
       "      <td>Spacious Room in East Village/NoHo</td>\n",
       "      <td>7256281</td>\n",
       "      <td>163</td>\n",
       "    </tr>\n",
       "    <tr>\n",
       "      <td>18703</td>\n",
       "      <td>Duplex with Private Bathroom by Times Square</td>\n",
       "      <td>92520154</td>\n",
       "      <td>180</td>\n",
       "    </tr>\n",
       "    <tr>\n",
       "      <td>1848</td>\n",
       "      <td>ON HIGHLINE! Private room &amp; bath</td>\n",
       "      <td>4323625</td>\n",
       "      <td>179</td>\n",
       "    </tr>\n",
       "    <tr>\n",
       "      <td>2267</td>\n",
       "      <td>Summer Special Price Times Square</td>\n",
       "      <td>5944682</td>\n",
       "      <td>185</td>\n",
       "    </tr>\n",
       "    <tr>\n",
       "      <td>10055</td>\n",
       "      <td>Private Space with Outdoor Patio</td>\n",
       "      <td>25169596</td>\n",
       "      <td>182</td>\n",
       "    </tr>\n",
       "  </tbody>\n",
       "</table>\n",
       "</div>"
      ],
      "text/plain": [
       "                                               name   host_id  price\n",
       "7884             Spacious Room in East Village/NoHo   7256281    163\n",
       "18703  Duplex with Private Bathroom by Times Square  92520154    180\n",
       "1848               ON HIGHLINE! Private room & bath   4323625    179\n",
       "2267              Summer Special Price Times Square   5944682    185\n",
       "10055              Private Space with Outdoor Patio  25169596    182"
      ]
     },
     "metadata": {},
     "output_type": "display_data"
    },
    {
     "name": "stdout",
     "output_type": "stream",
     "text": [
      "Please enter the name of the AirBnB you want to stay in: Spacious Room in East Village/NoHo\n"
     ]
    },
    {
     "data": {
      "text/html": [
       "<div style=\"width:100%;\"><div style=\"position:relative;width:100%;height:0;padding-bottom:60%;\"><iframe src=\"data:text/html;charset=utf-8;base64,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\" style=\"position:absolute;width:100%;height:100%;left:0;top:0;border:none !important;\" allowfullscreen webkitallowfullscreen mozallowfullscreen></iframe></div></div>"
      ],
      "text/plain": [
       "<folium.folium.Map at 0x7f211935d828>"
      ]
     },
     "metadata": {},
     "output_type": "display_data"
    },
    {
     "name": "stdout",
     "output_type": "stream",
     "text": [
      "Which street or avenue is your AirBnB on? (please enter): Columbus Avenue\n",
      "There are 412 restaurants on this street.\n",
      "Enter cuisine: Chinese\n"
     ]
    },
    {
     "data": {
      "text/html": [
       "<div>\n",
       "<style scoped>\n",
       "    .dataframe tbody tr th:only-of-type {\n",
       "        vertical-align: middle;\n",
       "    }\n",
       "\n",
       "    .dataframe tbody tr th {\n",
       "        vertical-align: top;\n",
       "    }\n",
       "\n",
       "    .dataframe thead th {\n",
       "        text-align: right;\n",
       "    }\n",
       "</style>\n",
       "<table border=\"1\" class=\"dataframe\">\n",
       "  <thead>\n",
       "    <tr style=\"text-align: right;\">\n",
       "      <th></th>\n",
       "      <th>Name</th>\n",
       "    </tr>\n",
       "  </thead>\n",
       "  <tbody>\n",
       "    <tr>\n",
       "      <td>Canteen 82</td>\n",
       "      <td>25</td>\n",
       "    </tr>\n",
       "  </tbody>\n",
       "</table>\n",
       "</div>"
      ],
      "text/plain": [
       "            Name\n",
       "Canteen 82    25"
      ]
     },
     "metadata": {},
     "output_type": "display_data"
    },
    {
     "name": "stdout",
     "output_type": "stream",
     "text": [
      "Hope you found the right AirBnB and restaurant of your choice!\n",
      "Choose from Manhattan, Brooklyn, Queens, Bronx, Staten Island or print Quit to quit: Quit\n"
     ]
    }
   ],
   "source": [
    "# Read data from csv\n",
    "airbnb_data_origin= pd.read_csv('NYC_airbnb.csv')\n",
    "airbnb_data = airbnb_data_origin.filter(['neighbourhood_group', 'price', 'room_type', 'number_of_reviews', 'latitude',\n",
    "                                         'longitude', 'name', 'host_id'])\n",
    "restaurants = pd.read_csv('nyc_restaurants.csv')\n",
    "\n",
    "# Filter by neighborhood\n",
    "list = [\"Manhattan\", \"Brooklyn\", \"Queens\", \"Bronx\", \"Staten Island\"]\n",
    "while True:\n",
    "    user_nbhd = input('Choose from Manhattan, Brooklyn, Queens, Bronx, Staten Island or print Quit to quit: ')\n",
    "    if user_nbhd == \"Quit\":\n",
    "        break\n",
    "    if user_nbhd in list:\n",
    "        user_nbhd_result = airbnb_data[airbnb_data['neighbourhood_group'] == user_nbhd]\n",
    "    else:\n",
    "        print('Please choose from \"Manhattan\", \"Brooklyn\", \"Queens\", \"Bronx\", \"Staten Island\" or enter \"Quit\" to quit')\n",
    "        continue\n",
    "# Filter by room type\n",
    "    list2 = ['Private room', 'Entire home/apt', 'Shared room']\n",
    "    while True:\n",
    "        user_room = input(\"Choose from 'Private room', 'Entire home/apt', 'Shared room'\")\n",
    "        if user_room in list2:\n",
    "            user_room_result = user_nbhd_result[user_nbhd_result['room_type'] == user_room]\n",
    "            break\n",
    "        else:\n",
    "            print('Please choose from \"Private room\", \"Entire home/apt\", \"Shared room\"')\n",
    "            continue\n",
    "    # Filter by price group\n",
    "    while True:\n",
    "        user_room_result['price_group'] = np.nan\n",
    "        user_room_result['price_group'][user_room_result['price'] <= 50] ='0-50'\n",
    "        user_room_result['price_group'][user_room_result['price'].between(51, 101)] = '51-100'\n",
    "        user_room_result['price_group'][user_room_result['price'].between(101, 151)] = '101-150'\n",
    "        user_room_result['price_group'][user_room_result['price'].between(151, 201)] = '151-200'\n",
    "        user_room_result['price_group'][user_room_result['price'] > 200] ='200+'\n",
    "        list3 = ['0-50', '51-100', '101-150','151-200','200+']\n",
    "        user_price = input(f\"Choose price range from '0-50', '51-100', '101-150','151-200','200+'\")\n",
    "        if user_price in list3:\n",
    "            user_price_result = user_room_result[user_room_result['price_group'] == user_price]\n",
    "            # Sort the rooms by number of reviews from high to low\n",
    "            final_sort = user_price_result.sort_values(by=['number_of_reviews'], ascending=False)\n",
    "            CENTER_NYC = (40.7128, -74.0060)\n",
    "            map = folium.Map(location=CENTER_NYC, zoom_start=12)\n",
    "\n",
    "            for row in final_sort.head(5).to_records():\n",
    "                pos = (row['latitude'], row['longitude'])\n",
    "                marker = folium.Marker(location=pos, popup=\"%s, ID: %s\" % (row['name'], row['host_id'])\n",
    "                                      )\n",
    "                map.add_child(marker)\n",
    "            display(map)\n",
    "           \n",
    "            final_choice = final_sort.head(5).filter(['name', 'host_id', 'price'])\n",
    "            final_df = pd.DataFrame(final_choice)\n",
    "            display(final_df)\n",
    "           \n",
    "            name_choice = input('Please enter the name of the AirBnB you want to stay in: ')\n",
    "            name = airbnb_data[airbnb_data['name'] == name_choice]\n",
    "            name_df = pd.DataFrame(name)\n",
    "           \n",
    "            map2 = folium.Map(location=CENTER_NYC, zoom_start=12)\n",
    "            pos2 = (name_df['latitude'], name_df['longitude'])\n",
    "            marker2 = folium.Marker(location=pos, popup=\"%s, ID: %s\" % (name_df['name'], name_df['host_id']))\n",
    "            map2.add_child(marker2)\n",
    "            display(map2)\n",
    "           \n",
    "            df = pd.read_csv('nyc_restaurants.csv')\n",
    "            street_names = df['Street']\n",
    "            res_names = df['Name']\n",
    "            res_cuisines = df['Cuisine Description']\n",
    "            list_of_streets = []\n",
    "            list_of_restaurants = []\n",
    "            list_of_cuisines = []\n",
    "            i = 0\n",
    "           \n",
    "            for names in street_names:\n",
    "                list_of_streets.append(names)\n",
    "                if (len(list_of_streets) > 150000):\n",
    "                    break\n",
    "            for names in res_names:\n",
    "                list_of_restaurants.append(names)\n",
    "                if (len(list_of_restaurants) > 150000):\n",
    "                    break\n",
    "            for names in res_cuisines:\n",
    "                list_of_cuisines.append(names)\n",
    "                if (len(list_of_cuisines) > 150000):\n",
    "                    break\n",
    "\n",
    "            def get_user_street():\n",
    "                user_street = input(\"Which street or avenue is your AirBnB on? (please enter): \")\n",
    "                return user_street\n",
    "\n",
    "            def check_res_in_street(user_street):\n",
    "                if (user_street) in list_of_streets:\n",
    "                    return True\n",
    "                else:\n",
    "                    return False\n",
    "\n",
    "            def find_num_of_res(user_street):\n",
    "                count = 0\n",
    "                for words in list_of_streets:\n",
    "                    if (words == user_street):\n",
    "                        count += 1\n",
    "                return count\n",
    "\n",
    "            def ask_show_more(user_street):\n",
    "                    cuisine_type = input(\"Enter cuisine: \")\n",
    "                    food = restaurants[ (restaurants['Street'] == user_street) & (restaurants['Cuisine Description'] == cuisine_type)]\n",
    "                    value_count = food['Name'].value_counts()\n",
    "                    count_df = pd.DataFrame(value_count)\n",
    "                    display(count_df)\n",
    "                    print(\"Hope you found the right AirBnB and restaurant of your choice!\")\n",
    "\n",
    "            def main():        \n",
    "                user_street = get_user_street()\n",
    "\n",
    "                if (check_res_in_street(user_street) == True):\n",
    "                    num_res_in_street = find_num_of_res(user_street)\n",
    "                    if (num_res_in_street > 1):\n",
    "                        print(\"There are \" + str(num_res_in_street) + \" restaurants on this street.\")\n",
    "                        ask_show_more(user_street)\n",
    "                    else:\n",
    "                        print(\"There is 1 restaurant on this street.\")\n",
    "                        ask_show_more(user_street)\n",
    "                else:\n",
    "                    print(\"There are no restaurants on this street. Start over.\")\n",
    "                    main()\n",
    "           \n",
    "            main()\n",
    "           \n",
    "        else:\n",
    "            print(\"Please choose from '0-50', '51-100', '101-150','151-200','200-'\")\n",
    "            continue\n",
    "           \n",
    "        break\n",
    "            # break to exit this while loop    "
   ]
  },
  {
   "cell_type": "code",
   "execution_count": null,
   "metadata": {},
   "outputs": [],
   "source": []
  },
  {
   "cell_type": "code",
   "execution_count": null,
   "metadata": {},
   "outputs": [],
   "source": []
  }
 ],
 "metadata": {
  "kernelspec": {
   "display_name": "Python 3",
   "language": "python",
   "name": "python3"
  }
 },
 "nbformat": 4,
 "nbformat_minor": 2
}
