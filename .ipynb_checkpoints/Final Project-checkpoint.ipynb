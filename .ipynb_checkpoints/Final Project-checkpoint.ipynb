{
 "cells": [
  {
   "cell_type": "code",
   "execution_count": 158,
   "metadata": {},
   "outputs": [
    {
     "name": "stdout",
     "output_type": "stream",
     "text": [
      "Requirement already satisfied: folium in /opt/conda/lib/python3.7/site-packages (0.10.0)\n",
      "Requirement already satisfied: numpy in /opt/conda/lib/python3.7/site-packages (from folium) (1.17.1)\n",
      "Requirement already satisfied: branca>=0.3.0 in /opt/conda/lib/python3.7/site-packages (from folium) (0.3.1)\n",
      "Requirement already satisfied: jinja2>=2.9 in /opt/conda/lib/python3.7/site-packages (from folium) (2.10.1)\n",
      "Requirement already satisfied: requests in /opt/conda/lib/python3.7/site-packages (from folium) (2.22.0)\n",
      "Requirement already satisfied: six in /opt/conda/lib/python3.7/site-packages (from branca>=0.3.0->folium) (1.12.0)\n",
      "Requirement already satisfied: MarkupSafe>=0.23 in /opt/conda/lib/python3.7/site-packages (from jinja2>=2.9->folium) (1.1.1)\n",
      "Requirement already satisfied: chardet<3.1.0,>=3.0.2 in /opt/conda/lib/python3.7/site-packages (from requests->folium) (3.0.4)\n",
      "Requirement already satisfied: urllib3!=1.25.0,!=1.25.1,<1.26,>=1.21.1 in /opt/conda/lib/python3.7/site-packages (from requests->folium) (1.24.2)\n",
      "Requirement already satisfied: idna<2.9,>=2.5 in /opt/conda/lib/python3.7/site-packages (from requests->folium) (2.8)\n",
      "Requirement already satisfied: certifi>=2017.4.17 in /opt/conda/lib/python3.7/site-packages (from requests->folium) (2019.6.16)\n"
     ]
    }
   ],
   "source": [
    "import warnings\n",
    "warnings.filterwarnings('ignore')\n",
    "import pandas as pd\n",
    "import numpy as np\n",
    "! pip install folium\n",
    "import folium"
   ]
  },
  {
   "cell_type": "code",
   "execution_count": null,
   "metadata": {},
   "outputs": [
    {
     "name": "stdout",
     "output_type": "stream",
     "text": [
      "Choose from Manhattan, Brooklyn, Queens, Bronx, Staten Island or print Quit to quit: Manhattan\n",
      "Choose from 'Private room', 'Entire home/apt', 'Shared room'Private room\n",
      "Choose price range from '0-50', '51-100', '101-150','151-200','200-'51-100\n",
      "     neighbourhood_group  price     room_type  number_of_reviews  latitude  \\\n",
      "1879           Manhattan     99  Private room                540  40.71921   \n",
      "225            Manhattan     60  Private room                458  40.82510   \n",
      "1190           Manhattan     72  Private room                451  40.72760   \n",
      "1125           Manhattan     85  Private room                439  40.82537   \n",
      "7              Manhattan     79  Private room                430  40.76489   \n",
      "\n",
      "      longitude                                      name  host_id price_group  \n",
      "1879  -73.99116  Manhattan Lux Loft.Like.Love.Lots.Look !  2369681      51-100  \n",
      "225   -73.94287       PRIVATE Room on Historic Sugar Hill   277379      51-100  \n",
      "1190  -73.98347          Cozy Room in Lively East Village  2267153      51-100  \n",
      "1125  -73.94392       PRIVATE Room in Spacious, Quiet Apt   277379      51-100  \n",
      "7     -73.98493          Large Furnished Room Near B'way      8967      51-100  \n"
     ]
    },
    {
     "data": {
      "text/html": [
       "<div style=\"width:100%;\"><div style=\"position:relative;width:100%;height:0;padding-bottom:60%;\"><iframe src=\"data:text/html;charset=utf-8;base64,PCFET0NUWVBFIGh0bWw+CjxoZWFkPiAgICAKICAgIDxtZXRhIGh0dHAtZXF1aXY9ImNvbnRlbnQtdHlwZSIgY29udGVudD0idGV4dC9odG1sOyBjaGFyc2V0PVVURi04IiAvPgogICAgCiAgICAgICAgPHNjcmlwdD4KICAgICAgICAgICAgTF9OT19UT1VDSCA9IGZhbHNlOwogICAgICAgICAgICBMX0RJU0FCTEVfM0QgPSBmYWxzZTsKICAgICAgICA8L3NjcmlwdD4KICAgIAogICAgPHNjcmlwdCBzcmM9Imh0dHBzOi8vY2RuLmpzZGVsaXZyLm5ldC9ucG0vbGVhZmxldEAxLjUuMS9kaXN0L2xlYWZsZXQuanMiPjwvc2NyaXB0PgogICAgPHNjcmlwdCBzcmM9Imh0dHBzOi8vY29kZS5qcXVlcnkuY29tL2pxdWVyeS0xLjEyLjQubWluLmpzIj48L3NjcmlwdD4KICAgIDxzY3JpcHQgc3JjPSJodHRwczovL21heGNkbi5ib290c3RyYXBjZG4uY29tL2Jvb3RzdHJhcC8zLjIuMC9qcy9ib290c3RyYXAubWluLmpzIj48L3NjcmlwdD4KICAgIDxzY3JpcHQgc3JjPSJodHRwczovL2NkbmpzLmNsb3VkZmxhcmUuY29tL2FqYXgvbGlicy9MZWFmbGV0LmF3ZXNvbWUtbWFya2Vycy8yLjAuMi9sZWFmbGV0LmF3ZXNvbWUtbWFya2Vycy5qcyI+PC9zY3JpcHQ+CiAgICA8bGluayByZWw9InN0eWxlc2hlZXQiIGhyZWY9Imh0dHBzOi8vY2RuLmpzZGVsaXZyLm5ldC9ucG0vbGVhZmxldEAxLjUuMS9kaXN0L2xlYWZsZXQuY3NzIi8+CiAgICA8bGluayByZWw9InN0eWxlc2hlZXQiIGhyZWY9Imh0dHBzOi8vbWF4Y2RuLmJvb3RzdHJhcGNkbi5jb20vYm9vdHN0cmFwLzMuMi4wL2Nzcy9ib290c3RyYXAubWluLmNzcyIvPgogICAgPGxpbmsgcmVsPSJzdHlsZXNoZWV0IiBocmVmPSJodHRwczovL21heGNkbi5ib290c3RyYXBjZG4uY29tL2Jvb3RzdHJhcC8zLjIuMC9jc3MvYm9vdHN0cmFwLXRoZW1lLm1pbi5jc3MiLz4KICAgIDxsaW5rIHJlbD0ic3R5bGVzaGVldCIgaHJlZj0iaHR0cHM6Ly9tYXhjZG4uYm9vdHN0cmFwY2RuLmNvbS9mb250LWF3ZXNvbWUvNC42LjMvY3NzL2ZvbnQtYXdlc29tZS5taW4uY3NzIi8+CiAgICA8bGluayByZWw9InN0eWxlc2hlZXQiIGhyZWY9Imh0dHBzOi8vY2RuanMuY2xvdWRmbGFyZS5jb20vYWpheC9saWJzL0xlYWZsZXQuYXdlc29tZS1tYXJrZXJzLzIuMC4yL2xlYWZsZXQuYXdlc29tZS1tYXJrZXJzLmNzcyIvPgogICAgPGxpbmsgcmVsPSJzdHlsZXNoZWV0IiBocmVmPSJodHRwczovL3Jhd2Nkbi5naXRoYWNrLmNvbS9weXRob24tdmlzdWFsaXphdGlvbi9mb2xpdW0vbWFzdGVyL2ZvbGl1bS90ZW1wbGF0ZXMvbGVhZmxldC5hd2Vzb21lLnJvdGF0ZS5jc3MiLz4KICAgIDxzdHlsZT5odG1sLCBib2R5IHt3aWR0aDogMTAwJTtoZWlnaHQ6IDEwMCU7bWFyZ2luOiAwO3BhZGRpbmc6IDA7fTwvc3R5bGU+CiAgICA8c3R5bGU+I21hcCB7cG9zaXRpb246YWJzb2x1dGU7dG9wOjA7Ym90dG9tOjA7cmlnaHQ6MDtsZWZ0OjA7fTwvc3R5bGU+CiAgICAKICAgICAgICAgICAgPG1ldGEgbmFtZT0idmlld3BvcnQiIGNvbnRlbnQ9IndpZHRoPWRldmljZS13aWR0aCwKICAgICAgICAgICAgICAgIGluaXRpYWwtc2NhbGU9MS4wLCBtYXhpbXVtLXNjYWxlPTEuMCwgdXNlci1zY2FsYWJsZT1ubyIgLz4KICAgICAgICAgICAgPHN0eWxlPgogICAgICAgICAgICAgICAgI21hcF8wZDYxMWY3ZTU0MmQ0NWZjOWNlZTMxYWFkYjAxNGNkYSB7CiAgICAgICAgICAgICAgICAgICAgcG9zaXRpb246IHJlbGF0aXZlOwogICAgICAgICAgICAgICAgICAgIHdpZHRoOiAxMDAuMCU7CiAgICAgICAgICAgICAgICAgICAgaGVpZ2h0OiAxMDAuMCU7CiAgICAgICAgICAgICAgICAgICAgbGVmdDogMC4wJTsKICAgICAgICAgICAgICAgICAgICB0b3A6IDAuMCU7CiAgICAgICAgICAgICAgICB9CiAgICAgICAgICAgIDwvc3R5bGU+CiAgICAgICAgCjwvaGVhZD4KPGJvZHk+ICAgIAogICAgCiAgICAgICAgICAgIDxkaXYgY2xhc3M9ImZvbGl1bS1tYXAiIGlkPSJtYXBfMGQ2MTFmN2U1NDJkNDVmYzljZWUzMWFhZGIwMTRjZGEiID48L2Rpdj4KICAgICAgICAKPC9ib2R5Pgo8c2NyaXB0PiAgICAKICAgIAogICAgICAgICAgICB2YXIgbWFwXzBkNjExZjdlNTQyZDQ1ZmM5Y2VlMzFhYWRiMDE0Y2RhID0gTC5tYXAoCiAgICAgICAgICAgICAgICAibWFwXzBkNjExZjdlNTQyZDQ1ZmM5Y2VlMzFhYWRiMDE0Y2RhIiwKICAgICAgICAgICAgICAgIHsKICAgICAgICAgICAgICAgICAgICBjZW50ZXI6IFs0MC43MTI4LCAtNzQuMDA2XSwKICAgICAgICAgICAgICAgICAgICBjcnM6IEwuQ1JTLkVQU0czODU3LAogICAgICAgICAgICAgICAgICAgIHpvb206IDEyLAogICAgICAgICAgICAgICAgICAgIHpvb21Db250cm9sOiB0cnVlLAogICAgICAgICAgICAgICAgICAgIHByZWZlckNhbnZhczogZmFsc2UsCiAgICAgICAgICAgICAgICB9CiAgICAgICAgICAgICk7CgogICAgICAgICAgICAKCiAgICAgICAgCiAgICAKICAgICAgICAgICAgdmFyIHRpbGVfbGF5ZXJfMTZkNGI3NWM3NjNkNDJkMTg5Zjc3ZGJjMDhjMDVmZTIgPSBMLnRpbGVMYXllcigKICAgICAgICAgICAgICAgICJodHRwczovL3tzfS50aWxlLm9wZW5zdHJlZXRtYXAub3JnL3t6fS97eH0ve3l9LnBuZyIsCiAgICAgICAgICAgICAgICB7ImF0dHJpYnV0aW9uIjogIkRhdGEgYnkgXHUwMDI2Y29weTsgXHUwMDNjYSBocmVmPVwiaHR0cDovL29wZW5zdHJlZXRtYXAub3JnXCJcdTAwM2VPcGVuU3RyZWV0TWFwXHUwMDNjL2FcdTAwM2UsIHVuZGVyIFx1MDAzY2EgaHJlZj1cImh0dHA6Ly93d3cub3BlbnN0cmVldG1hcC5vcmcvY29weXJpZ2h0XCJcdTAwM2VPRGJMXHUwMDNjL2FcdTAwM2UuIiwgImRldGVjdFJldGluYSI6IGZhbHNlLCAibWF4TmF0aXZlWm9vbSI6IDE4LCAibWF4Wm9vbSI6IDE4LCAibWluWm9vbSI6IDAsICJub1dyYXAiOiBmYWxzZSwgIm9wYWNpdHkiOiAxLCAic3ViZG9tYWlucyI6ICJhYmMiLCAidG1zIjogZmFsc2V9CiAgICAgICAgICAgICkuYWRkVG8obWFwXzBkNjExZjdlNTQyZDQ1ZmM5Y2VlMzFhYWRiMDE0Y2RhKTsKICAgICAgICAKICAgIAogICAgICAgICAgICB2YXIgbWFya2VyXzEyOTJmZGZmNjkyMzQ3Y2FhNTBkYjkxMzc2MmIxMjJkID0gTC5tYXJrZXIoCiAgICAgICAgICAgICAgICBbNDAuNzE5MjEsIC03My45OTExNl0sCiAgICAgICAgICAgICAgICB7fQogICAgICAgICAgICApLmFkZFRvKG1hcF8wZDYxMWY3ZTU0MmQ0NWZjOWNlZTMxYWFkYjAxNGNkYSk7CiAgICAgICAgCiAgICAKICAgICAgICB2YXIgcG9wdXBfNDM1NTFjZjY4ZDQ5NDMwM2I5YWUyNjc3YjI5MzhhOWYgPSBMLnBvcHVwKHsibWF4V2lkdGgiOiAiMTAwJSJ9KTsKCiAgICAgICAgCiAgICAgICAgICAgIHZhciBodG1sX2ZjYzVjOTdjZTQyNTQxZDE5MDdjMWRiZDBkYmNlNjViID0gJChgPGRpdiBpZD0iaHRtbF9mY2M1Yzk3Y2U0MjU0MWQxOTA3YzFkYmQwZGJjZTY1YiIgc3R5bGU9IndpZHRoOiAxMDAuMCU7IGhlaWdodDogMTAwLjAlOyI+TWFuaGF0dGFuIEx1eCBMb2Z0Lkxpa2UuTG92ZS5Mb3RzLkxvb2sgISwgSUQ6IDIzNjk2ODE8L2Rpdj5gKVswXTsKICAgICAgICAgICAgcG9wdXBfNDM1NTFjZjY4ZDQ5NDMwM2I5YWUyNjc3YjI5MzhhOWYuc2V0Q29udGVudChodG1sX2ZjYzVjOTdjZTQyNTQxZDE5MDdjMWRiZDBkYmNlNjViKTsKICAgICAgICAKCiAgICAgICAgbWFya2VyXzEyOTJmZGZmNjkyMzQ3Y2FhNTBkYjkxMzc2MmIxMjJkLmJpbmRQb3B1cChwb3B1cF80MzU1MWNmNjhkNDk0MzAzYjlhZTI2NzdiMjkzOGE5ZikKICAgICAgICA7CgogICAgICAgIAogICAgCiAgICAKICAgICAgICAgICAgdmFyIG1hcmtlcl9jMDlkOTUyODVmYzU0Y2E2OTRkZDM2OWVmYjg5NmYxMiA9IEwubWFya2VyKAogICAgICAgICAgICAgICAgWzQwLjgyNTEsIC03My45NDI4N10sCiAgICAgICAgICAgICAgICB7fQogICAgICAgICAgICApLmFkZFRvKG1hcF8wZDYxMWY3ZTU0MmQ0NWZjOWNlZTMxYWFkYjAxNGNkYSk7CiAgICAgICAgCiAgICAKICAgICAgICB2YXIgcG9wdXBfZDMxMTlmN2QxMzNmNDExNWJiM2Q1NDAxODkxZDAyZmUgPSBMLnBvcHVwKHsibWF4V2lkdGgiOiAiMTAwJSJ9KTsKCiAgICAgICAgCiAgICAgICAgICAgIHZhciBodG1sXzAxNWFhNTBhOGRmNDQzNmJiNzM5ZDU1OWMzZTg4NDRjID0gJChgPGRpdiBpZD0iaHRtbF8wMTVhYTUwYThkZjQ0MzZiYjczOWQ1NTljM2U4ODQ0YyIgc3R5bGU9IndpZHRoOiAxMDAuMCU7IGhlaWdodDogMTAwLjAlOyI+UFJJVkFURSBSb29tIG9uIEhpc3RvcmljIFN1Z2FyIEhpbGwsIElEOiAyNzczNzk8L2Rpdj5gKVswXTsKICAgICAgICAgICAgcG9wdXBfZDMxMTlmN2QxMzNmNDExNWJiM2Q1NDAxODkxZDAyZmUuc2V0Q29udGVudChodG1sXzAxNWFhNTBhOGRmNDQzNmJiNzM5ZDU1OWMzZTg4NDRjKTsKICAgICAgICAKCiAgICAgICAgbWFya2VyX2MwOWQ5NTI4NWZjNTRjYTY5NGRkMzY5ZWZiODk2ZjEyLmJpbmRQb3B1cChwb3B1cF9kMzExOWY3ZDEzM2Y0MTE1YmIzZDU0MDE4OTFkMDJmZSkKICAgICAgICA7CgogICAgICAgIAogICAgCiAgICAKICAgICAgICAgICAgdmFyIG1hcmtlcl83OTMzMDNiZDAzNGE0NmNkOWI0OGI2YTQxN2JmN2NkYSA9IEwubWFya2VyKAogICAgICAgICAgICAgICAgWzQwLjcyNzYsIC03My45ODM0N10sCiAgICAgICAgICAgICAgICB7fQogICAgICAgICAgICApLmFkZFRvKG1hcF8wZDYxMWY3ZTU0MmQ0NWZjOWNlZTMxYWFkYjAxNGNkYSk7CiAgICAgICAgCiAgICAKICAgICAgICB2YXIgcG9wdXBfOTc1MWZjODExNjYzNDE0ZmI4NzFiZDBiNmVkOGI0MWMgPSBMLnBvcHVwKHsibWF4V2lkdGgiOiAiMTAwJSJ9KTsKCiAgICAgICAgCiAgICAgICAgICAgIHZhciBodG1sX2I1NzZkMTRkNDA3ZDQ5ZDQ5ODMyZDRhOTFkY2RjYjBhID0gJChgPGRpdiBpZD0iaHRtbF9iNTc2ZDE0ZDQwN2Q0OWQ0OTgzMmQ0YTkxZGNkY2IwYSIgc3R5bGU9IndpZHRoOiAxMDAuMCU7IGhlaWdodDogMTAwLjAlOyI+Q296eSBSb29tIGluIExpdmVseSBFYXN0IFZpbGxhZ2UsIElEOiAyMjY3MTUzPC9kaXY+YClbMF07CiAgICAgICAgICAgIHBvcHVwXzk3NTFmYzgxMTY2MzQxNGZiODcxYmQwYjZlZDhiNDFjLnNldENvbnRlbnQoaHRtbF9iNTc2ZDE0ZDQwN2Q0OWQ0OTgzMmQ0YTkxZGNkY2IwYSk7CiAgICAgICAgCgogICAgICAgIG1hcmtlcl83OTMzMDNiZDAzNGE0NmNkOWI0OGI2YTQxN2JmN2NkYS5iaW5kUG9wdXAocG9wdXBfOTc1MWZjODExNjYzNDE0ZmI4NzFiZDBiNmVkOGI0MWMpCiAgICAgICAgOwoKICAgICAgICAKICAgIAogICAgCiAgICAgICAgICAgIHZhciBtYXJrZXJfNTJjNTA5YjkwMWU1NGQxMmI2OTI2M2M5NjgzMzAwZjggPSBMLm1hcmtlcigKICAgICAgICAgICAgICAgIFs0MC44MjUzNywgLTczLjk0MzkxOTk5OTk5OTk5XSwKICAgICAgICAgICAgICAgIHt9CiAgICAgICAgICAgICkuYWRkVG8obWFwXzBkNjExZjdlNTQyZDQ1ZmM5Y2VlMzFhYWRiMDE0Y2RhKTsKICAgICAgICAKICAgIAogICAgICAgIHZhciBwb3B1cF81ZmY2OTRlYWRhZDQ0NTJhYTY5ODg1NjcxOTM4NzRjYSA9IEwucG9wdXAoeyJtYXhXaWR0aCI6ICIxMDAlIn0pOwoKICAgICAgICAKICAgICAgICAgICAgdmFyIGh0bWxfMWI1ZGVkMzQ3NTdkNGY1OGE1OWUwNzM4N2M3ZDI4NGQgPSAkKGA8ZGl2IGlkPSJodG1sXzFiNWRlZDM0NzU3ZDRmNThhNTllMDczODdjN2QyODRkIiBzdHlsZT0id2lkdGg6IDEwMC4wJTsgaGVpZ2h0OiAxMDAuMCU7Ij5QUklWQVRFIFJvb20gaW4gU3BhY2lvdXMsIFF1aWV0IEFwdCwgSUQ6IDI3NzM3OTwvZGl2PmApWzBdOwogICAgICAgICAgICBwb3B1cF81ZmY2OTRlYWRhZDQ0NTJhYTY5ODg1NjcxOTM4NzRjYS5zZXRDb250ZW50KGh0bWxfMWI1ZGVkMzQ3NTdkNGY1OGE1OWUwNzM4N2M3ZDI4NGQpOwogICAgICAgIAoKICAgICAgICBtYXJrZXJfNTJjNTA5YjkwMWU1NGQxMmI2OTI2M2M5NjgzMzAwZjguYmluZFBvcHVwKHBvcHVwXzVmZjY5NGVhZGFkNDQ1MmFhNjk4ODU2NzE5Mzg3NGNhKQogICAgICAgIDsKCiAgICAgICAgCiAgICAKICAgIAogICAgICAgICAgICB2YXIgbWFya2VyX2I0ZDc5MGI3YjZjYjRiZjlhMjU3ZmQ5M2VhMzhkMzUxID0gTC5tYXJrZXIoCiAgICAgICAgICAgICAgICBbNDAuNzY0ODksIC03My45ODQ5M10sCiAgICAgICAgICAgICAgICB7fQogICAgICAgICAgICApLmFkZFRvKG1hcF8wZDYxMWY3ZTU0MmQ0NWZjOWNlZTMxYWFkYjAxNGNkYSk7CiAgICAgICAgCiAgICAKICAgICAgICB2YXIgcG9wdXBfMjUwOTZjYTRlMDZlNDM5YzhjZGMyMGEyZmQ5ZTdhZmMgPSBMLnBvcHVwKHsibWF4V2lkdGgiOiAiMTAwJSJ9KTsKCiAgICAgICAgCiAgICAgICAgICAgIHZhciBodG1sX2U0YmQ4MzNjYzI1ZDRkYWI5OTViODU3OTU1ZTMyNWFmID0gJChgPGRpdiBpZD0iaHRtbF9lNGJkODMzY2MyNWQ0ZGFiOTk1Yjg1Nzk1NWUzMjVhZiIgc3R5bGU9IndpZHRoOiAxMDAuMCU7IGhlaWdodDogMTAwLjAlOyI+TGFyZ2UgRnVybmlzaGVkIFJvb20gTmVhciBCJ3dheSAsIElEOiA4OTY3PC9kaXY+YClbMF07CiAgICAgICAgICAgIHBvcHVwXzI1MDk2Y2E0ZTA2ZTQzOWM4Y2RjMjBhMmZkOWU3YWZjLnNldENvbnRlbnQoaHRtbF9lNGJkODMzY2MyNWQ0ZGFiOTk1Yjg1Nzk1NWUzMjVhZik7CiAgICAgICAgCgogICAgICAgIG1hcmtlcl9iNGQ3OTBiN2I2Y2I0YmY5YTI1N2ZkOTNlYTM4ZDM1MS5iaW5kUG9wdXAocG9wdXBfMjUwOTZjYTRlMDZlNDM5YzhjZGMyMGEyZmQ5ZTdhZmMpCiAgICAgICAgOwoKICAgICAgICAKICAgIAo8L3NjcmlwdD4=\" style=\"position:absolute;width:100%;height:100%;left:0;top:0;border:none !important;\" allowfullscreen webkitallowfullscreen mozallowfullscreen></iframe></div></div>"
      ],
      "text/plain": [
       "<folium.folium.Map at 0x7f3fb9d117f0>"
      ]
     },
     "metadata": {},
     "output_type": "display_data"
    },
    {
     "name": "stdout",
     "output_type": "stream",
     "text": [
      "Which street is your AirBnB on? (please enter): Spring Street\n",
      "There are 217 restaurants on this street.\n",
      "Would you like to see more details? Yes\n",
      "Enter cuisine: Mexican\n",
      "Chipotle Mexican Grill    18\n",
      "Name: Name, dtype: int64\n",
      "Hope you enjoy your choice of AirBnB and restaurant\n"
     ]
    }
   ],
   "source": [
    "# Read data from csv\n",
    "airbnb_data_origin= pd.read_csv('NYC_airbnb.csv')\n",
    "airbnb_data = airbnb_data_origin.filter(['neighbourhood_group', 'price', 'room_type', 'number_of_reviews', 'latitude',\n",
    "                                         'longitude', 'name', 'host_id'])\n",
    "restaurants = pd.read_csv('nyc_restaurants.csv')\n",
    "\n",
    "# Filter by neighborhood\n",
    "list = [\"Manhattan\", \"Brooklyn\", \"Queens\", \"Bronx\", \"Staten Island\"]\n",
    "while True:\n",
    "    user_nbhd = input('Choose from Manhattan, Brooklyn, Queens, Bronx, Staten Island or print Quit to quit: ')\n",
    "    if user_nbhd == \"Quit\":\n",
    "        break\n",
    "    if user_nbhd in list:\n",
    "        user_nbhd_result = airbnb_data[airbnb_data['neighbourhood_group'] == user_nbhd]\n",
    "    else:\n",
    "        print('Please choose from \"Manhattan\", \"Brooklyn\", \"Queens\", \"Bronx\", \"Staten Island\" or enter \"Quit\" to quit')\n",
    "        continue \n",
    "# Filter by room type\n",
    "    list2 = ['Private room', 'Entire home/apt', 'Shared room']\n",
    "    while True:\n",
    "        user_room = input(\"Choose from 'Private room', 'Entire home/apt', 'Shared room'\")\n",
    "        if user_room in list2:\n",
    "            user_room_result = user_nbhd_result[user_nbhd_result['room_type'] == user_room]\n",
    "            break\n",
    "        else:\n",
    "            print('Please choose from \"Private room\", \"Entire home/apt\", \"Shared room\"')\n",
    "            continue\n",
    "    # Filter by price group\n",
    "    while True:\n",
    "        user_room_result['price_group'] = np.nan\n",
    "        user_room_result['price_group'][user_room_result['price'] <= 50] ='0-50'\n",
    "        user_room_result['price_group'][user_room_result['price'].between(51, 101)] = '51-100'\n",
    "        user_room_result['price_group'][user_room_result['price'].between(101, 151)] = '101-150'\n",
    "        user_room_result['price_group'][user_room_result['price'].between(151, 201)] = '151-200'\n",
    "        user_room_result['price_group'][user_room_result['price'] > 200] ='200-'\n",
    "        list3 = ['0-50', '51-100', '101-150','151-200','200-']\n",
    "        user_price = input(f\"Choose price range from '0-50', '51-100', '101-150','151-200','200-'\")\n",
    "        if user_price in list3:\n",
    "            user_price_result = user_room_result[user_room_result['price_group'] == user_price]\n",
    "            # Sort the rooms by number of reviews from high to low\n",
    "            final_sort = user_price_result.sort_values(by=['number_of_reviews'], ascending=False)\n",
    "            print(final_sort.head(5))\n",
    "            CENTER_NYC = (40.7128, -74.0060)\n",
    "            map = folium.Map(location=CENTER_NYC, zoom_start=12)\n",
    "\n",
    "            for row in final_sort.head(5).to_records():\n",
    "                pos = (row['latitude'], row['longitude'])\n",
    "                marker = folium.Marker(location=pos, popup=\"%s, ID: %s\" % (row['name'], row['host_id'])\n",
    "                                      )\n",
    "                map.add_child(marker)\n",
    "            display(map)\n",
    "             \n",
    "            df = pd.read_csv('nyc_restaurants.csv')\n",
    "            street_names = df['Street']\n",
    "            res_names = df['Name']\n",
    "            res_cuisines = df['Cuisine Description']\n",
    "            list_of_streets = []\n",
    "            list_of_restaurants = []\n",
    "            list_of_cuisines = []\n",
    "            i = 0\n",
    "            \n",
    "            for names in street_names:\n",
    "                list_of_streets.append(names)\n",
    "                if (len(list_of_streets) > 150000):\n",
    "                    break\n",
    "            for names in res_names:\n",
    "                list_of_restaurants.append(names)\n",
    "                if (len(list_of_restaurants) > 150000):\n",
    "                    break\n",
    "            for names in res_cuisines:\n",
    "                list_of_cuisines.append(names)\n",
    "                if (len(list_of_cuisines) > 150000):\n",
    "                    break\n",
    "\n",
    "            def get_user_street():\n",
    "                user_street = input(\"Which street is your AirBnB on? (please enter): \")\n",
    "                return user_street \n",
    "\n",
    "            def check_res_in_street(user_street):\n",
    "                if (user_street) in list_of_streets:\n",
    "                    return True\n",
    "                else:\n",
    "                    return False\n",
    "\n",
    "            def find_num_of_res(user_street):\n",
    "                count = 0\n",
    "                for words in list_of_streets:\n",
    "                    if (words == user_street):\n",
    "                        count += 1\n",
    "                return count \n",
    "\n",
    "            def ask_show_more(user_street):\n",
    "                show_more = input(\"Would you like to see more details? \")\n",
    "                if (show_more.lower() == \"yes\"):\n",
    "                    cuisine_type = input(\"Enter cuisine: \")\n",
    "                    food = restaurants[ (restaurants['Street'] == user_street) & (restaurants['Cuisine Description'] == cuisine_type)]\n",
    "                    print(food['Name'].value_counts())\n",
    "                    print(\"Hope you enjoy your choice of AirBnB and restaurant!\")\n",
    "\n",
    "            def main():        \n",
    "                user_street = get_user_street()\n",
    "\n",
    "                if (check_res_in_street(user_street) == True):\n",
    "                    num_res_in_street = find_num_of_res(user_street)\n",
    "                    if (num_res_in_street > 1):\n",
    "                        print(\"There are \" + str(num_res_in_street) + \" restaurants on this street.\")\n",
    "                        ask_show_more(user_street)\n",
    "                    else: \n",
    "                        print(\"There is 1 restaurant on this street.\")\n",
    "                        ask_show_more(user_street)\n",
    "                else:\n",
    "                    print(\"There are no restaurants on this street. Start over.\")\n",
    "                    main()\n",
    "            \n",
    "            main()\n",
    "            \n",
    "        else:\n",
    "            print(\"Please choose from '0-50', '51-100', '101-150','151-200','200-'\")\n",
    "            continue\n",
    "            \n",
    "        break \n",
    "            # break to exit this while loop\n",
    "            \n",
    "\n",
    "         "
   ]
  },
  {
   "cell_type": "code",
   "execution_count": null,
   "metadata": {},
   "outputs": [],
   "source": []
  },
  {
   "cell_type": "code",
   "execution_count": null,
   "metadata": {},
   "outputs": [],
   "source": []
  },
  {
   "cell_type": "code",
   "execution_count": null,
   "metadata": {},
   "outputs": [],
   "source": []
  },
  {
   "cell_type": "code",
   "execution_count": null,
   "metadata": {},
   "outputs": [],
   "source": [
    "\n",
    "\n"
   ]
  },
  {
   "cell_type": "code",
   "execution_count": null,
   "metadata": {},
   "outputs": [],
   "source": []
  }
 ],
 "metadata": {
  "kernelspec": {
   "display_name": "Python 3",
   "language": "python",
   "name": "python3"
  }
 },
 "nbformat": 4,
 "nbformat_minor": 2
}
